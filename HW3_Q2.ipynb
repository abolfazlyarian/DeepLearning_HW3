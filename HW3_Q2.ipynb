{
 "cells": [
  {
   "cell_type": "code",
   "execution_count": 15,
   "metadata": {
    "id": "FnosP4Qg1BuV"
   },
   "outputs": [],
   "source": [
    "# imporing packages\n",
    "import seaborn\n",
    "import numpy as np\n",
    "import matplotlib.pyplot as plt\n",
    "\n",
    "import torch\n",
    "import torch.nn as nn\n",
    "from torchvision.datasets import CIFAR10\n",
    "from torchvision.models import resnet50, ResNet50_Weights,resnet18, ResNet18_Weights\n",
    "from torchvision.transforms import ToTensor, Resize, Compose, Normalize, RandomHorizontalFlip\n",
    "\n",
    "from torch.utils.data import Dataset, DataLoader, random_split\n",
    "\n",
    "from sklearn.metrics import confusion_matrix\n",
    "from sklearn.metrics import classification_report"
   ]
  },
  {
   "cell_type": "code",
   "execution_count": 16,
   "metadata": {},
   "outputs": [
    {
     "name": "stdout",
     "output_type": "stream",
     "text": [
      "Using cuda device\n"
     ]
    }
   ],
   "source": [
    "device = \"cuda\" if torch.cuda.is_available() else \"cpu\"\n",
    "print(f\"Using {device} device\")"
   ]
  },
  {
   "attachments": {},
   "cell_type": "markdown",
   "metadata": {},
   "source": [
    "i used `RTX3070` as GPU device"
   ]
  },
  {
   "attachments": {},
   "cell_type": "markdown",
   "metadata": {},
   "source": [
    "# Loading CIFAR-10 "
   ]
  },
  {
   "cell_type": "code",
   "execution_count": 17,
   "metadata": {},
   "outputs": [],
   "source": [
    "tensorShape = [112,112]\n",
    "transforms = Compose([\n",
    "                    ToTensor(),\n",
    "                    Resize((tensorShape[0],tensorShape[1])),\n",
    "                    Normalize(mean=[0.485, 0.456, 0.406], std=[0.229, 0.224, 0.225]),\n",
    "])"
   ]
  },
  {
   "cell_type": "code",
   "execution_count": 18,
   "metadata": {},
   "outputs": [
    {
     "name": "stdout",
     "output_type": "stream",
     "text": [
      "Files already downloaded and verified\n",
      "Files already downloaded and verified\n"
     ]
    }
   ],
   "source": [
    "training_data_cifar10 = CIFAR10(\n",
    "    root=\"CIFAR-10\", \n",
    "    train=True, \n",
    "    download=True, \n",
    "    transform=transforms\n",
    ")\n",
    "\n",
    "test_data_cifar10 = CIFAR10(\n",
    "    root=\"CIFAR-10\",\n",
    "    train=False,\n",
    "    download=True,\n",
    "    transform=transforms\n",
    ")"
   ]
  },
  {
   "cell_type": "code",
   "execution_count": 19,
   "metadata": {},
   "outputs": [],
   "source": [
    "training_data_cifar10, validation_data_cifar10 = random_split(training_data_cifar10, [int(0.8*len(training_data_cifar10)), len(training_data_cifar10) - int(0.8*len(training_data_cifar10))])"
   ]
  },
  {
   "attachments": {},
   "cell_type": "markdown",
   "metadata": {},
   "source": [
    "# A) ResNet50 -> Linear-tuning"
   ]
  },
  {
   "cell_type": "code",
   "execution_count": 20,
   "metadata": {},
   "outputs": [],
   "source": [
    "weights = ResNet50_Weights.IMAGENET1K_V2\n",
    "model_resnet50 = resnet50(weights)"
   ]
  },
  {
   "cell_type": "code",
   "execution_count": 21,
   "metadata": {},
   "outputs": [
    {
     "data": {
      "text/plain": [
       "ResNet(\n",
       "  (conv1): Conv2d(3, 64, kernel_size=(7, 7), stride=(2, 2), padding=(3, 3), bias=False)\n",
       "  (bn1): BatchNorm2d(64, eps=1e-05, momentum=0.1, affine=True, track_running_stats=True)\n",
       "  (relu): ReLU(inplace=True)\n",
       "  (maxpool): MaxPool2d(kernel_size=3, stride=2, padding=1, dilation=1, ceil_mode=False)\n",
       "  (layer1): Sequential(\n",
       "    (0): Bottleneck(\n",
       "      (conv1): Conv2d(64, 64, kernel_size=(1, 1), stride=(1, 1), bias=False)\n",
       "      (bn1): BatchNorm2d(64, eps=1e-05, momentum=0.1, affine=True, track_running_stats=True)\n",
       "      (conv2): Conv2d(64, 64, kernel_size=(3, 3), stride=(1, 1), padding=(1, 1), bias=False)\n",
       "      (bn2): BatchNorm2d(64, eps=1e-05, momentum=0.1, affine=True, track_running_stats=True)\n",
       "      (conv3): Conv2d(64, 256, kernel_size=(1, 1), stride=(1, 1), bias=False)\n",
       "      (bn3): BatchNorm2d(256, eps=1e-05, momentum=0.1, affine=True, track_running_stats=True)\n",
       "      (relu): ReLU(inplace=True)\n",
       "      (downsample): Sequential(\n",
       "        (0): Conv2d(64, 256, kernel_size=(1, 1), stride=(1, 1), bias=False)\n",
       "        (1): BatchNorm2d(256, eps=1e-05, momentum=0.1, affine=True, track_running_stats=True)\n",
       "      )\n",
       "    )\n",
       "    (1): Bottleneck(\n",
       "      (conv1): Conv2d(256, 64, kernel_size=(1, 1), stride=(1, 1), bias=False)\n",
       "      (bn1): BatchNorm2d(64, eps=1e-05, momentum=0.1, affine=True, track_running_stats=True)\n",
       "      (conv2): Conv2d(64, 64, kernel_size=(3, 3), stride=(1, 1), padding=(1, 1), bias=False)\n",
       "      (bn2): BatchNorm2d(64, eps=1e-05, momentum=0.1, affine=True, track_running_stats=True)\n",
       "      (conv3): Conv2d(64, 256, kernel_size=(1, 1), stride=(1, 1), bias=False)\n",
       "      (bn3): BatchNorm2d(256, eps=1e-05, momentum=0.1, affine=True, track_running_stats=True)\n",
       "      (relu): ReLU(inplace=True)\n",
       "    )\n",
       "    (2): Bottleneck(\n",
       "      (conv1): Conv2d(256, 64, kernel_size=(1, 1), stride=(1, 1), bias=False)\n",
       "      (bn1): BatchNorm2d(64, eps=1e-05, momentum=0.1, affine=True, track_running_stats=True)\n",
       "      (conv2): Conv2d(64, 64, kernel_size=(3, 3), stride=(1, 1), padding=(1, 1), bias=False)\n",
       "      (bn2): BatchNorm2d(64, eps=1e-05, momentum=0.1, affine=True, track_running_stats=True)\n",
       "      (conv3): Conv2d(64, 256, kernel_size=(1, 1), stride=(1, 1), bias=False)\n",
       "      (bn3): BatchNorm2d(256, eps=1e-05, momentum=0.1, affine=True, track_running_stats=True)\n",
       "      (relu): ReLU(inplace=True)\n",
       "    )\n",
       "  )\n",
       "  (layer2): Sequential(\n",
       "    (0): Bottleneck(\n",
       "      (conv1): Conv2d(256, 128, kernel_size=(1, 1), stride=(1, 1), bias=False)\n",
       "      (bn1): BatchNorm2d(128, eps=1e-05, momentum=0.1, affine=True, track_running_stats=True)\n",
       "      (conv2): Conv2d(128, 128, kernel_size=(3, 3), stride=(2, 2), padding=(1, 1), bias=False)\n",
       "      (bn2): BatchNorm2d(128, eps=1e-05, momentum=0.1, affine=True, track_running_stats=True)\n",
       "      (conv3): Conv2d(128, 512, kernel_size=(1, 1), stride=(1, 1), bias=False)\n",
       "      (bn3): BatchNorm2d(512, eps=1e-05, momentum=0.1, affine=True, track_running_stats=True)\n",
       "      (relu): ReLU(inplace=True)\n",
       "      (downsample): Sequential(\n",
       "        (0): Conv2d(256, 512, kernel_size=(1, 1), stride=(2, 2), bias=False)\n",
       "        (1): BatchNorm2d(512, eps=1e-05, momentum=0.1, affine=True, track_running_stats=True)\n",
       "      )\n",
       "    )\n",
       "    (1): Bottleneck(\n",
       "      (conv1): Conv2d(512, 128, kernel_size=(1, 1), stride=(1, 1), bias=False)\n",
       "      (bn1): BatchNorm2d(128, eps=1e-05, momentum=0.1, affine=True, track_running_stats=True)\n",
       "      (conv2): Conv2d(128, 128, kernel_size=(3, 3), stride=(1, 1), padding=(1, 1), bias=False)\n",
       "      (bn2): BatchNorm2d(128, eps=1e-05, momentum=0.1, affine=True, track_running_stats=True)\n",
       "      (conv3): Conv2d(128, 512, kernel_size=(1, 1), stride=(1, 1), bias=False)\n",
       "      (bn3): BatchNorm2d(512, eps=1e-05, momentum=0.1, affine=True, track_running_stats=True)\n",
       "      (relu): ReLU(inplace=True)\n",
       "    )\n",
       "    (2): Bottleneck(\n",
       "      (conv1): Conv2d(512, 128, kernel_size=(1, 1), stride=(1, 1), bias=False)\n",
       "      (bn1): BatchNorm2d(128, eps=1e-05, momentum=0.1, affine=True, track_running_stats=True)\n",
       "      (conv2): Conv2d(128, 128, kernel_size=(3, 3), stride=(1, 1), padding=(1, 1), bias=False)\n",
       "      (bn2): BatchNorm2d(128, eps=1e-05, momentum=0.1, affine=True, track_running_stats=True)\n",
       "      (conv3): Conv2d(128, 512, kernel_size=(1, 1), stride=(1, 1), bias=False)\n",
       "      (bn3): BatchNorm2d(512, eps=1e-05, momentum=0.1, affine=True, track_running_stats=True)\n",
       "      (relu): ReLU(inplace=True)\n",
       "    )\n",
       "    (3): Bottleneck(\n",
       "      (conv1): Conv2d(512, 128, kernel_size=(1, 1), stride=(1, 1), bias=False)\n",
       "      (bn1): BatchNorm2d(128, eps=1e-05, momentum=0.1, affine=True, track_running_stats=True)\n",
       "      (conv2): Conv2d(128, 128, kernel_size=(3, 3), stride=(1, 1), padding=(1, 1), bias=False)\n",
       "      (bn2): BatchNorm2d(128, eps=1e-05, momentum=0.1, affine=True, track_running_stats=True)\n",
       "      (conv3): Conv2d(128, 512, kernel_size=(1, 1), stride=(1, 1), bias=False)\n",
       "      (bn3): BatchNorm2d(512, eps=1e-05, momentum=0.1, affine=True, track_running_stats=True)\n",
       "      (relu): ReLU(inplace=True)\n",
       "    )\n",
       "  )\n",
       "  (layer3): Sequential(\n",
       "    (0): Bottleneck(\n",
       "      (conv1): Conv2d(512, 256, kernel_size=(1, 1), stride=(1, 1), bias=False)\n",
       "      (bn1): BatchNorm2d(256, eps=1e-05, momentum=0.1, affine=True, track_running_stats=True)\n",
       "      (conv2): Conv2d(256, 256, kernel_size=(3, 3), stride=(2, 2), padding=(1, 1), bias=False)\n",
       "      (bn2): BatchNorm2d(256, eps=1e-05, momentum=0.1, affine=True, track_running_stats=True)\n",
       "      (conv3): Conv2d(256, 1024, kernel_size=(1, 1), stride=(1, 1), bias=False)\n",
       "      (bn3): BatchNorm2d(1024, eps=1e-05, momentum=0.1, affine=True, track_running_stats=True)\n",
       "      (relu): ReLU(inplace=True)\n",
       "      (downsample): Sequential(\n",
       "        (0): Conv2d(512, 1024, kernel_size=(1, 1), stride=(2, 2), bias=False)\n",
       "        (1): BatchNorm2d(1024, eps=1e-05, momentum=0.1, affine=True, track_running_stats=True)\n",
       "      )\n",
       "    )\n",
       "    (1): Bottleneck(\n",
       "      (conv1): Conv2d(1024, 256, kernel_size=(1, 1), stride=(1, 1), bias=False)\n",
       "      (bn1): BatchNorm2d(256, eps=1e-05, momentum=0.1, affine=True, track_running_stats=True)\n",
       "      (conv2): Conv2d(256, 256, kernel_size=(3, 3), stride=(1, 1), padding=(1, 1), bias=False)\n",
       "      (bn2): BatchNorm2d(256, eps=1e-05, momentum=0.1, affine=True, track_running_stats=True)\n",
       "      (conv3): Conv2d(256, 1024, kernel_size=(1, 1), stride=(1, 1), bias=False)\n",
       "      (bn3): BatchNorm2d(1024, eps=1e-05, momentum=0.1, affine=True, track_running_stats=True)\n",
       "      (relu): ReLU(inplace=True)\n",
       "    )\n",
       "    (2): Bottleneck(\n",
       "      (conv1): Conv2d(1024, 256, kernel_size=(1, 1), stride=(1, 1), bias=False)\n",
       "      (bn1): BatchNorm2d(256, eps=1e-05, momentum=0.1, affine=True, track_running_stats=True)\n",
       "      (conv2): Conv2d(256, 256, kernel_size=(3, 3), stride=(1, 1), padding=(1, 1), bias=False)\n",
       "      (bn2): BatchNorm2d(256, eps=1e-05, momentum=0.1, affine=True, track_running_stats=True)\n",
       "      (conv3): Conv2d(256, 1024, kernel_size=(1, 1), stride=(1, 1), bias=False)\n",
       "      (bn3): BatchNorm2d(1024, eps=1e-05, momentum=0.1, affine=True, track_running_stats=True)\n",
       "      (relu): ReLU(inplace=True)\n",
       "    )\n",
       "    (3): Bottleneck(\n",
       "      (conv1): Conv2d(1024, 256, kernel_size=(1, 1), stride=(1, 1), bias=False)\n",
       "      (bn1): BatchNorm2d(256, eps=1e-05, momentum=0.1, affine=True, track_running_stats=True)\n",
       "      (conv2): Conv2d(256, 256, kernel_size=(3, 3), stride=(1, 1), padding=(1, 1), bias=False)\n",
       "      (bn2): BatchNorm2d(256, eps=1e-05, momentum=0.1, affine=True, track_running_stats=True)\n",
       "      (conv3): Conv2d(256, 1024, kernel_size=(1, 1), stride=(1, 1), bias=False)\n",
       "      (bn3): BatchNorm2d(1024, eps=1e-05, momentum=0.1, affine=True, track_running_stats=True)\n",
       "      (relu): ReLU(inplace=True)\n",
       "    )\n",
       "    (4): Bottleneck(\n",
       "      (conv1): Conv2d(1024, 256, kernel_size=(1, 1), stride=(1, 1), bias=False)\n",
       "      (bn1): BatchNorm2d(256, eps=1e-05, momentum=0.1, affine=True, track_running_stats=True)\n",
       "      (conv2): Conv2d(256, 256, kernel_size=(3, 3), stride=(1, 1), padding=(1, 1), bias=False)\n",
       "      (bn2): BatchNorm2d(256, eps=1e-05, momentum=0.1, affine=True, track_running_stats=True)\n",
       "      (conv3): Conv2d(256, 1024, kernel_size=(1, 1), stride=(1, 1), bias=False)\n",
       "      (bn3): BatchNorm2d(1024, eps=1e-05, momentum=0.1, affine=True, track_running_stats=True)\n",
       "      (relu): ReLU(inplace=True)\n",
       "    )\n",
       "    (5): Bottleneck(\n",
       "      (conv1): Conv2d(1024, 256, kernel_size=(1, 1), stride=(1, 1), bias=False)\n",
       "      (bn1): BatchNorm2d(256, eps=1e-05, momentum=0.1, affine=True, track_running_stats=True)\n",
       "      (conv2): Conv2d(256, 256, kernel_size=(3, 3), stride=(1, 1), padding=(1, 1), bias=False)\n",
       "      (bn2): BatchNorm2d(256, eps=1e-05, momentum=0.1, affine=True, track_running_stats=True)\n",
       "      (conv3): Conv2d(256, 1024, kernel_size=(1, 1), stride=(1, 1), bias=False)\n",
       "      (bn3): BatchNorm2d(1024, eps=1e-05, momentum=0.1, affine=True, track_running_stats=True)\n",
       "      (relu): ReLU(inplace=True)\n",
       "    )\n",
       "  )\n",
       "  (layer4): Sequential(\n",
       "    (0): Bottleneck(\n",
       "      (conv1): Conv2d(1024, 512, kernel_size=(1, 1), stride=(1, 1), bias=False)\n",
       "      (bn1): BatchNorm2d(512, eps=1e-05, momentum=0.1, affine=True, track_running_stats=True)\n",
       "      (conv2): Conv2d(512, 512, kernel_size=(3, 3), stride=(2, 2), padding=(1, 1), bias=False)\n",
       "      (bn2): BatchNorm2d(512, eps=1e-05, momentum=0.1, affine=True, track_running_stats=True)\n",
       "      (conv3): Conv2d(512, 2048, kernel_size=(1, 1), stride=(1, 1), bias=False)\n",
       "      (bn3): BatchNorm2d(2048, eps=1e-05, momentum=0.1, affine=True, track_running_stats=True)\n",
       "      (relu): ReLU(inplace=True)\n",
       "      (downsample): Sequential(\n",
       "        (0): Conv2d(1024, 2048, kernel_size=(1, 1), stride=(2, 2), bias=False)\n",
       "        (1): BatchNorm2d(2048, eps=1e-05, momentum=0.1, affine=True, track_running_stats=True)\n",
       "      )\n",
       "    )\n",
       "    (1): Bottleneck(\n",
       "      (conv1): Conv2d(2048, 512, kernel_size=(1, 1), stride=(1, 1), bias=False)\n",
       "      (bn1): BatchNorm2d(512, eps=1e-05, momentum=0.1, affine=True, track_running_stats=True)\n",
       "      (conv2): Conv2d(512, 512, kernel_size=(3, 3), stride=(1, 1), padding=(1, 1), bias=False)\n",
       "      (bn2): BatchNorm2d(512, eps=1e-05, momentum=0.1, affine=True, track_running_stats=True)\n",
       "      (conv3): Conv2d(512, 2048, kernel_size=(1, 1), stride=(1, 1), bias=False)\n",
       "      (bn3): BatchNorm2d(2048, eps=1e-05, momentum=0.1, affine=True, track_running_stats=True)\n",
       "      (relu): ReLU(inplace=True)\n",
       "    )\n",
       "    (2): Bottleneck(\n",
       "      (conv1): Conv2d(2048, 512, kernel_size=(1, 1), stride=(1, 1), bias=False)\n",
       "      (bn1): BatchNorm2d(512, eps=1e-05, momentum=0.1, affine=True, track_running_stats=True)\n",
       "      (conv2): Conv2d(512, 512, kernel_size=(3, 3), stride=(1, 1), padding=(1, 1), bias=False)\n",
       "      (bn2): BatchNorm2d(512, eps=1e-05, momentum=0.1, affine=True, track_running_stats=True)\n",
       "      (conv3): Conv2d(512, 2048, kernel_size=(1, 1), stride=(1, 1), bias=False)\n",
       "      (bn3): BatchNorm2d(2048, eps=1e-05, momentum=0.1, affine=True, track_running_stats=True)\n",
       "      (relu): ReLU(inplace=True)\n",
       "    )\n",
       "  )\n",
       "  (avgpool): AdaptiveAvgPool2d(output_size=(1, 1))\n",
       "  (fc): Linear(in_features=2048, out_features=10, bias=True)\n",
       ")"
      ]
     },
     "execution_count": 21,
     "metadata": {},
     "output_type": "execute_result"
    }
   ],
   "source": [
    "model_resnet50.fc = nn.Linear(2048,10)\n",
    "model_resnet50.to(device)"
   ]
  },
  {
   "cell_type": "code",
   "execution_count": 22,
   "metadata": {},
   "outputs": [],
   "source": [
    "batchSize = 64\n",
    "\n",
    "train_dataloader = DataLoader(training_data_cifar10, batch_size=batchSize, shuffle=True)\n",
    "valid_dataloader = DataLoader(validation_data_cifar10, batch_size=batchSize, shuffle=True)\n",
    "test_dataloader = DataLoader(test_data_cifar10, batch_size=batchSize, shuffle=True)"
   ]
  },
  {
   "cell_type": "code",
   "execution_count": 23,
   "metadata": {},
   "outputs": [],
   "source": [
    "crossEntropy = nn.CrossEntropyLoss()"
   ]
  },
  {
   "cell_type": "code",
   "execution_count": 24,
   "metadata": {},
   "outputs": [],
   "source": [
    "for param in model_resnet50.parameters():\n",
    "    param.requires_grad = False"
   ]
  },
  {
   "cell_type": "code",
   "execution_count": 25,
   "metadata": {},
   "outputs": [],
   "source": [
    "for param in model_resnet50.fc.parameters():\n",
    "    param.requires_grad = True"
   ]
  },
  {
   "attachments": {},
   "cell_type": "markdown",
   "metadata": {},
   "source": [
    "### Training model & Optimization & TensorBoard"
   ]
  },
  {
   "cell_type": "code",
   "execution_count": 26,
   "metadata": {},
   "outputs": [],
   "source": [
    "def train_loop(dataloader, model, loss_fn, optimizer):\n",
    "    size = len(dataloader.dataset)\n",
    "    avgLoss = 0\n",
    "    correct = 0\n",
    "    model.train()\n",
    "    for batch, (X, Y) in enumerate(dataloader):\n",
    "        # Compute prediction and loss\n",
    "        X = X.to(device)\n",
    "        Y = Y.to(device)\n",
    "        pred = model(X)\n",
    "        loss = loss_fn(pred, Y)\n",
    "        avgLoss += loss.item()\n",
    "        correct += (pred.argmax(1) == Y).type(torch.float).sum().item()\n",
    "        \n",
    "        # Backpropagation\n",
    "        optimizer.zero_grad()\n",
    "        loss.backward()\n",
    "        optimizer.step()\n",
    "\n",
    "        if batch % 100 == 0:\n",
    "            loss, current = loss.item(), batch * len(X)\n",
    "            print(f\"loss: {loss:>7f}  [{current:>5d}/{size:>5d}]\")\n",
    "    \n",
    "    correct /= size\n",
    "    avgLoss /= size\n",
    "    print(f\"\\n -Training Accuracy = {(100*correct):>0.1f}%, Avg loss = {avgLoss:>8f} \\n\")\n",
    "    return correct, avgLoss"
   ]
  },
  {
   "cell_type": "code",
   "execution_count": 27,
   "metadata": {},
   "outputs": [],
   "source": [
    "def test_loop(dataloader, model, loss_fn, error):\n",
    "    size = len(dataloader.dataset)\n",
    "    loss = 0\n",
    "    correct = 0\n",
    "    model.eval()\n",
    "    with torch.no_grad():\n",
    "        for X, Y in dataloader:\n",
    "            # Compute prediction and loss\n",
    "            X = X.to(device)\n",
    "            Y = Y.to(device)\n",
    "            pred = model(X)\n",
    "            loss += loss_fn(pred, Y).item()\n",
    "            correct += (pred.argmax(1) == Y).type(torch.float).sum().item()\n",
    "\n",
    "    loss /= size\n",
    "    correct /= size\n",
    "    print(f\" -{error} Error: Accuracy = {(100*correct):>0.1f}%, Avg loss = {loss:>8f} \\n\")\n",
    "    return correct, loss"
   ]
  },
  {
   "cell_type": "code",
   "execution_count": 28,
   "metadata": {},
   "outputs": [
    {
     "name": "stderr",
     "output_type": "stream",
     "text": [
      "2023-01-04 05:34:03.218400: I tensorflow/core/platform/cpu_feature_guard.cc:193] This TensorFlow binary is optimized with oneAPI Deep Neural Network Library (oneDNN) to use the following CPU instructions in performance-critical operations:  AVX2 FMA\n",
      "To enable them in other operations, rebuild TensorFlow with the appropriate compiler flags.\n",
      "2023-01-04 05:34:03.807004: W tensorflow/compiler/xla/stream_executor/platform/default/dso_loader.cc:64] Could not load dynamic library 'libnvinfer.so.7'; dlerror: libnvinfer.so.7: cannot open shared object file: No such file or directory\n",
      "2023-01-04 05:34:03.807062: W tensorflow/compiler/xla/stream_executor/platform/default/dso_loader.cc:64] Could not load dynamic library 'libnvinfer_plugin.so.7'; dlerror: libnvinfer_plugin.so.7: cannot open shared object file: No such file or directory\n",
      "2023-01-04 05:34:03.807067: W tensorflow/compiler/tf2tensorrt/utils/py_utils.cc:38] TF-TRT Warning: Cannot dlopen some TensorRT libraries. If you would like to use Nvidia GPU with TensorRT, please make sure the missing libraries mentioned above are installed properly.\n"
     ]
    },
    {
     "name": "stdout",
     "output_type": "stream",
     "text": [
      "Epoch 1\n",
      "-------------------------------\n",
      "loss: 2.325183  [    0/40000]\n",
      "loss: 1.705029  [ 6400/40000]\n",
      "loss: 1.335362  [12800/40000]\n",
      "loss: 1.184999  [19200/40000]\n",
      "loss: 0.995047  [25600/40000]\n",
      "loss: 0.962490  [32000/40000]\n",
      "loss: 0.853343  [38400/40000]\n",
      "\n",
      " -Training Accuracy = 69.9%, Avg loss = 0.019817 \n",
      "\n",
      " -Validation Error: Accuracy = 80.4%, Avg loss = 0.012727 \n",
      "\n",
      "Epoch 2\n",
      "-------------------------------\n",
      "loss: 0.792031  [    0/40000]\n",
      "loss: 0.829063  [ 6400/40000]\n",
      "loss: 0.724941  [12800/40000]\n",
      "loss: 0.830392  [19200/40000]\n",
      "loss: 0.620052  [25600/40000]\n",
      "loss: 0.730856  [32000/40000]\n",
      "loss: 0.654734  [38400/40000]\n",
      "\n",
      " -Training Accuracy = 80.3%, Avg loss = 0.011179 \n",
      "\n",
      " -Validation Error: Accuracy = 82.2%, Avg loss = 0.009802 \n",
      "\n",
      "Epoch 3\n",
      "-------------------------------\n",
      "loss: 0.573138  [    0/40000]\n",
      "loss: 0.730884  [ 6400/40000]\n",
      "loss: 0.741080  [12800/40000]\n",
      "loss: 0.647520  [19200/40000]\n",
      "loss: 0.583407  [25600/40000]\n",
      "loss: 0.532895  [32000/40000]\n",
      "loss: 0.403223  [38400/40000]\n",
      "\n",
      " -Training Accuracy = 81.9%, Avg loss = 0.009396 \n",
      "\n",
      " -Validation Error: Accuracy = 83.1%, Avg loss = 0.008627 \n",
      "\n",
      "Epoch 4\n",
      "-------------------------------\n",
      "loss: 0.567329  [    0/40000]\n",
      "loss: 0.741379  [ 6400/40000]\n",
      "loss: 0.508247  [12800/40000]\n",
      "loss: 0.452707  [19200/40000]\n",
      "loss: 0.618409  [25600/40000]\n",
      "loss: 0.543169  [32000/40000]\n",
      "loss: 0.474730  [38400/40000]\n",
      "\n",
      " -Training Accuracy = 83.1%, Avg loss = 0.008529 \n",
      "\n",
      " -Validation Error: Accuracy = 83.8%, Avg loss = 0.008114 \n",
      "\n",
      "Epoch 5\n",
      "-------------------------------\n",
      "loss: 0.312977  [    0/40000]\n",
      "loss: 0.583936  [ 6400/40000]\n",
      "loss: 0.554323  [12800/40000]\n",
      "loss: 0.381724  [19200/40000]\n",
      "loss: 0.540282  [25600/40000]\n",
      "loss: 0.457991  [32000/40000]\n",
      "loss: 0.435348  [38400/40000]\n",
      "\n",
      " -Training Accuracy = 83.7%, Avg loss = 0.008005 \n",
      "\n",
      " -Validation Error: Accuracy = 84.2%, Avg loss = 0.007811 \n",
      "\n",
      "Epoch 6\n",
      "-------------------------------\n",
      "loss: 0.344571  [    0/40000]\n",
      "loss: 0.463025  [ 6400/40000]\n",
      "loss: 0.501476  [12800/40000]\n",
      "loss: 0.415131  [19200/40000]\n",
      "loss: 0.713767  [25600/40000]\n",
      "loss: 0.550857  [32000/40000]\n",
      "loss: 0.371902  [38400/40000]\n",
      "\n",
      " -Training Accuracy = 84.2%, Avg loss = 0.007675 \n",
      "\n",
      " -Validation Error: Accuracy = 84.2%, Avg loss = 0.007661 \n",
      "\n",
      "Epoch 7\n",
      "-------------------------------\n",
      "loss: 0.446579  [    0/40000]\n",
      "loss: 0.363978  [ 6400/40000]\n",
      "loss: 0.418866  [12800/40000]\n",
      "loss: 0.429880  [19200/40000]\n",
      "loss: 0.508739  [25600/40000]\n",
      "loss: 0.301134  [32000/40000]\n",
      "loss: 0.374886  [38400/40000]\n",
      "\n",
      " -Training Accuracy = 84.9%, Avg loss = 0.007359 \n",
      "\n",
      " -Validation Error: Accuracy = 84.9%, Avg loss = 0.007259 \n",
      "\n",
      "Done!\n"
     ]
    }
   ],
   "source": [
    "from torch.utils.tensorboard import SummaryWriter\n",
    "writer = SummaryWriter(log_dir='ResNet50_LinearTuning_Board')\n",
    "\n",
    "epochs = 7\n",
    "optimizer = torch.optim.Adam(model_resnet50.parameters(), lr=0.0001)\n",
    "\n",
    "for e in range(epochs):\n",
    "    print(f\"Epoch {e+1}\\n-------------------------------\")\n",
    "    trainAcc, trainLoss = train_loop(train_dataloader, model_resnet50, crossEntropy, optimizer)\n",
    "    writer.add_scalar('Accuracy/train', trainAcc, e)\n",
    "    writer.add_scalar('Loss/train', trainLoss, e)\n",
    "\n",
    "    valAcc, valLoss = test_loop(valid_dataloader, model_resnet50, crossEntropy, 'Validation')\n",
    "    writer.add_scalar('Accuracy/validation', valAcc, e)\n",
    "    writer.add_scalar('Loss/validation', valLoss, e)\n",
    "    \n",
    "print(\"Done!\")"
   ]
  },
  {
   "attachments": {},
   "cell_type": "markdown",
   "metadata": {},
   "source": [
    "### Test and Result"
   ]
  },
  {
   "attachments": {},
   "cell_type": "markdown",
   "metadata": {},
   "source": [
    "* accuracy and loss for Test Dataset"
   ]
  },
  {
   "cell_type": "code",
   "execution_count": 29,
   "metadata": {},
   "outputs": [
    {
     "name": "stdout",
     "output_type": "stream",
     "text": [
      " -Test Error: Accuracy = 84.3%, Avg loss = 0.007413 \n",
      "\n"
     ]
    }
   ],
   "source": [
    "test_loop(test_dataloader, model_resnet50, crossEntropy, 'Test');"
   ]
  },
  {
   "cell_type": "code",
   "execution_count": 30,
   "metadata": {},
   "outputs": [],
   "source": [
    "y_pred = []\n",
    "y_true = []\n",
    "\n",
    "with torch.no_grad():\n",
    "    for X, Y in test_dataloader:\n",
    "        # Compute prediction and losss\n",
    "        X = X.to(device)\n",
    "        Y = Y.to(device)\n",
    "        pred = model_resnet50(X)\n",
    "        y_pred.extend(pred.argmax(1).cpu().numpy())\n",
    "        y_true.extend(Y.cpu().numpy())"
   ]
  },
  {
   "attachments": {},
   "cell_type": "markdown",
   "metadata": {},
   "source": [
    "* classification report (precision, recall, accuracy)"
   ]
  },
  {
   "cell_type": "code",
   "execution_count": 31,
   "metadata": {},
   "outputs": [
    {
     "name": "stdout",
     "output_type": "stream",
     "text": [
      "              precision    recall  f1-score   support\n",
      "\n",
      "           0       0.84      0.85      0.85      1000\n",
      "           1       0.88      0.90      0.89      1000\n",
      "           2       0.87      0.81      0.84      1000\n",
      "           3       0.73      0.76      0.74      1000\n",
      "           4       0.81      0.79      0.80      1000\n",
      "           5       0.83      0.82      0.83      1000\n",
      "           6       0.86      0.88      0.87      1000\n",
      "           7       0.85      0.85      0.85      1000\n",
      "           8       0.88      0.89      0.89      1000\n",
      "           9       0.89      0.88      0.88      1000\n",
      "\n",
      "    accuracy                           0.84     10000\n",
      "   macro avg       0.84      0.84      0.84     10000\n",
      "weighted avg       0.84      0.84      0.84     10000\n",
      "\n"
     ]
    }
   ],
   "source": [
    "# classification report\n",
    "print(classification_report(y_true=y_true, \n",
    "                            y_pred=y_pred))"
   ]
  },
  {
   "attachments": {},
   "cell_type": "markdown",
   "metadata": {},
   "source": [
    "* confusion matrix"
   ]
  },
  {
   "cell_type": "code",
   "execution_count": 32,
   "metadata": {},
   "outputs": [
    {
     "name": "stdout",
     "output_type": "stream",
     "text": [
      "[[854  11  22   9   3   0   4  20  59  18]\n",
      " [ 15 897   0   9   1   0   4   1  15  58]\n",
      " [ 33   5 808  40  45  10  37  14   7   1]\n",
      " [ 13   5  16 756  29  99  37  24  11  10]\n",
      " [ 13   4  30  34 793  14  46  57   6   3]\n",
      " [  1   2   9 102  22 822   8  29   3   2]\n",
      " [  7   2  25  39  27  15 875   5   4   1]\n",
      " [ 19   2   9  27  52  26   6 849   4   6]\n",
      " [ 38  23  11   8   3   3   3   3 894  14]\n",
      " [ 19  67   1   8   1   2   2   2  15 883]]\n"
     ]
    }
   ],
   "source": [
    "# Creating confusion matrix\n",
    "## true elements for each class : diagonal elements of matrix in class's row \n",
    "## false elements for each classs : others \n",
    "conf_mat = confusion_matrix(y_true=y_true, y_pred=y_pred)\n",
    "print(conf_mat)"
   ]
  },
  {
   "cell_type": "code",
   "execution_count": 33,
   "metadata": {},
   "outputs": [
    {
     "data": {
      "image/png": "[encoded data removed]",
      "text/plain": [
       "<Figure size 640x480 with 2 Axes>"
      ]
     },
     "metadata": {},
     "output_type": "display_data"
    }
   ],
   "source": [
    "seaborn.heatmap(conf_mat, annot=True, fmt='d', cmap='viridis')\n",
    "plt.xlabel('Predicted label')\n",
    "plt.ylabel('True label')\n",
    "plt.show()"
   ]
  },
  {
   "cell_type": "code",
   "execution_count": 34,
   "metadata": {},
   "outputs": [],
   "source": [
    "torch.save(model_resnet50.state_dict(), 'model_resnet50_linearTuned.pth')"
   ]
  },
  {
   "attachments": {},
   "cell_type": "markdown",
   "metadata": {},
   "source": [
    "# B) Knowledge distillation -> ResNet18 as Student and ResNet50(linear-tuned) as Teacher"
   ]
  },
  {
   "cell_type": "code",
   "execution_count": 35,
   "metadata": {},
   "outputs": [
    {
     "name": "stderr",
     "output_type": "stream",
     "text": [
      "/home/user01/.local/lib/python3.10/site-packages/torchvision/models/_utils.py:135: UserWarning: Using 'weights' as positional parameter(s) is deprecated since 0.13 and may be removed in the future. Please use keyword parameter(s) instead.\n",
      "  warnings.warn(\n"
     ]
    }
   ],
   "source": [
    "weights = ResNet18_Weights.IMAGENET1K_V1\n",
    "model_resnet18_distilled = resnet18(weights)"
   ]
  },
  {
   "cell_type": "code",
   "execution_count": 36,
   "metadata": {},
   "outputs": [
    {
     "data": {
      "text/plain": [
       "ResNet(\n",
       "  (conv1): Conv2d(3, 64, kernel_size=(7, 7), stride=(2, 2), padding=(3, 3), bias=False)\n",
       "  (bn1): BatchNorm2d(64, eps=1e-05, momentum=0.1, affine=True, track_running_stats=True)\n",
       "  (relu): ReLU(inplace=True)\n",
       "  (maxpool): MaxPool2d(kernel_size=3, stride=2, padding=1, dilation=1, ceil_mode=False)\n",
       "  (layer1): Sequential(\n",
       "    (0): BasicBlock(\n",
       "      (conv1): Conv2d(64, 64, kernel_size=(3, 3), stride=(1, 1), padding=(1, 1), bias=False)\n",
       "      (bn1): BatchNorm2d(64, eps=1e-05, momentum=0.1, affine=True, track_running_stats=True)\n",
       "      (relu): ReLU(inplace=True)\n",
       "      (conv2): Conv2d(64, 64, kernel_size=(3, 3), stride=(1, 1), padding=(1, 1), bias=False)\n",
       "      (bn2): BatchNorm2d(64, eps=1e-05, momentum=0.1, affine=True, track_running_stats=True)\n",
       "    )\n",
       "    (1): BasicBlock(\n",
       "      (conv1): Conv2d(64, 64, kernel_size=(3, 3), stride=(1, 1), padding=(1, 1), bias=False)\n",
       "      (bn1): BatchNorm2d(64, eps=1e-05, momentum=0.1, affine=True, track_running_stats=True)\n",
       "      (relu): ReLU(inplace=True)\n",
       "      (conv2): Conv2d(64, 64, kernel_size=(3, 3), stride=(1, 1), padding=(1, 1), bias=False)\n",
       "      (bn2): BatchNorm2d(64, eps=1e-05, momentum=0.1, affine=True, track_running_stats=True)\n",
       "    )\n",
       "  )\n",
       "  (layer2): Sequential(\n",
       "    (0): BasicBlock(\n",
       "      (conv1): Conv2d(64, 128, kernel_size=(3, 3), stride=(2, 2), padding=(1, 1), bias=False)\n",
       "      (bn1): BatchNorm2d(128, eps=1e-05, momentum=0.1, affine=True, track_running_stats=True)\n",
       "      (relu): ReLU(inplace=True)\n",
       "      (conv2): Conv2d(128, 128, kernel_size=(3, 3), stride=(1, 1), padding=(1, 1), bias=False)\n",
       "      (bn2): BatchNorm2d(128, eps=1e-05, momentum=0.1, affine=True, track_running_stats=True)\n",
       "      (downsample): Sequential(\n",
       "        (0): Conv2d(64, 128, kernel_size=(1, 1), stride=(2, 2), bias=False)\n",
       "        (1): BatchNorm2d(128, eps=1e-05, momentum=0.1, affine=True, track_running_stats=True)\n",
       "      )\n",
       "    )\n",
       "    (1): BasicBlock(\n",
       "      (conv1): Conv2d(128, 128, kernel_size=(3, 3), stride=(1, 1), padding=(1, 1), bias=False)\n",
       "      (bn1): BatchNorm2d(128, eps=1e-05, momentum=0.1, affine=True, track_running_stats=True)\n",
       "      (relu): ReLU(inplace=True)\n",
       "      (conv2): Conv2d(128, 128, kernel_size=(3, 3), stride=(1, 1), padding=(1, 1), bias=False)\n",
       "      (bn2): BatchNorm2d(128, eps=1e-05, momentum=0.1, affine=True, track_running_stats=True)\n",
       "    )\n",
       "  )\n",
       "  (layer3): Sequential(\n",
       "    (0): BasicBlock(\n",
       "      (conv1): Conv2d(128, 256, kernel_size=(3, 3), stride=(2, 2), padding=(1, 1), bias=False)\n",
       "      (bn1): BatchNorm2d(256, eps=1e-05, momentum=0.1, affine=True, track_running_stats=True)\n",
       "      (relu): ReLU(inplace=True)\n",
       "      (conv2): Conv2d(256, 256, kernel_size=(3, 3), stride=(1, 1), padding=(1, 1), bias=False)\n",
       "      (bn2): BatchNorm2d(256, eps=1e-05, momentum=0.1, affine=True, track_running_stats=True)\n",
       "      (downsample): Sequential(\n",
       "        (0): Conv2d(128, 256, kernel_size=(1, 1), stride=(2, 2), bias=False)\n",
       "        (1): BatchNorm2d(256, eps=1e-05, momentum=0.1, affine=True, track_running_stats=True)\n",
       "      )\n",
       "    )\n",
       "    (1): BasicBlock(\n",
       "      (conv1): Conv2d(256, 256, kernel_size=(3, 3), stride=(1, 1), padding=(1, 1), bias=False)\n",
       "      (bn1): BatchNorm2d(256, eps=1e-05, momentum=0.1, affine=True, track_running_stats=True)\n",
       "      (relu): ReLU(inplace=True)\n",
       "      (conv2): Conv2d(256, 256, kernel_size=(3, 3), stride=(1, 1), padding=(1, 1), bias=False)\n",
       "      (bn2): BatchNorm2d(256, eps=1e-05, momentum=0.1, affine=True, track_running_stats=True)\n",
       "    )\n",
       "  )\n",
       "  (layer4): Sequential(\n",
       "    (0): BasicBlock(\n",
       "      (conv1): Conv2d(256, 512, kernel_size=(3, 3), stride=(2, 2), padding=(1, 1), bias=False)\n",
       "      (bn1): BatchNorm2d(512, eps=1e-05, momentum=0.1, affine=True, track_running_stats=True)\n",
       "      (relu): ReLU(inplace=True)\n",
       "      (conv2): Conv2d(512, 512, kernel_size=(3, 3), stride=(1, 1), padding=(1, 1), bias=False)\n",
       "      (bn2): BatchNorm2d(512, eps=1e-05, momentum=0.1, affine=True, track_running_stats=True)\n",
       "      (downsample): Sequential(\n",
       "        (0): Conv2d(256, 512, kernel_size=(1, 1), stride=(2, 2), bias=False)\n",
       "        (1): BatchNorm2d(512, eps=1e-05, momentum=0.1, affine=True, track_running_stats=True)\n",
       "      )\n",
       "    )\n",
       "    (1): BasicBlock(\n",
       "      (conv1): Conv2d(512, 512, kernel_size=(3, 3), stride=(1, 1), padding=(1, 1), bias=False)\n",
       "      (bn1): BatchNorm2d(512, eps=1e-05, momentum=0.1, affine=True, track_running_stats=True)\n",
       "      (relu): ReLU(inplace=True)\n",
       "      (conv2): Conv2d(512, 512, kernel_size=(3, 3), stride=(1, 1), padding=(1, 1), bias=False)\n",
       "      (bn2): BatchNorm2d(512, eps=1e-05, momentum=0.1, affine=True, track_running_stats=True)\n",
       "    )\n",
       "  )\n",
       "  (avgpool): AdaptiveAvgPool2d(output_size=(1, 1))\n",
       "  (fc): Linear(in_features=512, out_features=10, bias=True)\n",
       ")"
      ]
     },
     "execution_count": 36,
     "metadata": {},
     "output_type": "execute_result"
    }
   ],
   "source": [
    "model_resnet18_distilled.fc = nn.Linear(512,10)\n",
    "model_resnet18_distilled.to(device)"
   ]
  },
  {
   "attachments": {},
   "cell_type": "markdown",
   "metadata": {},
   "source": [
    "### Training model & Optimization & TensorBoard"
   ]
  },
  {
   "cell_type": "code",
   "execution_count": 37,
   "metadata": {},
   "outputs": [],
   "source": [
    "import torch.nn.functional as F\n",
    "class distillationLoss:\n",
    "    def __init__(self, temperature=5, alpha=0.25):\n",
    "        self.studentLoss = nn.CrossEntropyLoss()\n",
    "        self.distillationLoss = nn.CrossEntropyLoss()\n",
    "        self.temperature = temperature\n",
    "        self.alpha = alpha\n",
    "\n",
    "    def __call__(self, studentLogits, teacherLogits, groundTruth):\n",
    "        distillationLoss = self.distillationLoss(F.log_softmax(studentLogits / self.temperature, dim=1),\n",
    "                                                   F.softmax(teacherLogits / self.temperature, dim=1))\n",
    "        \n",
    "        studentLoss = self.studentLoss(F.softmax(studentLogits, dim=1), groundTruth)\n",
    "        loss = (1 - self.alpha) * studentLoss + self.alpha * distillationLoss\n",
    "        return loss"
   ]
  },
  {
   "cell_type": "code",
   "execution_count": 38,
   "metadata": {},
   "outputs": [],
   "source": [
    "def train_Distillation_loop(dataloader, model_student, model_teacher, loss_fn, optimizer):\n",
    "    size = len(dataloader.dataset)\n",
    "    avgLoss = 0\n",
    "    correct = 0\n",
    "    model_student.train()\n",
    "    model_teacher.eval()\n",
    "    for batch, (X, Y) in enumerate(dataloader):\n",
    "        # Compute prediction and loss\n",
    "        X = X.to(device)\n",
    "        Y = Y.to(device)\n",
    "        studentLogits = model_student(X)\n",
    "        teacherLogits = model_teacher(X)\n",
    "        loss = loss_fn(studentLogits, teacherLogits, Y)\n",
    "        avgLoss += loss.item()\n",
    "        correct += (studentLogits.argmax(1) == Y).type(torch.float).sum().item()\n",
    "        \n",
    "        # Backpropagation\n",
    "        optimizer.zero_grad()\n",
    "        loss.backward()\n",
    "        optimizer.step()\n",
    "\n",
    "        if batch % 100 == 0:\n",
    "            loss, current = loss.item(), batch * len(X)\n",
    "            print(f\"loss: {loss:>7f}  [{current:>5d}/{size:>5d}]\")\n",
    "    \n",
    "    correct /= size\n",
    "    avgLoss /= size\n",
    "    print(f\"\\n -Training Accuracy = {(100*correct):>0.1f}%, Avg loss = {avgLoss:>8f} \\n\")\n",
    "    return correct, avgLoss"
   ]
  },
  {
   "cell_type": "code",
   "execution_count": 39,
   "metadata": {},
   "outputs": [
    {
     "name": "stdout",
     "output_type": "stream",
     "text": [
      "Epoch 1\n",
      "-------------------------------\n",
      "loss: 2.303900  [    0/40000]\n",
      "loss: 1.783099  [ 6400/40000]\n",
      "loss: 1.758892  [12800/40000]\n",
      "loss: 1.734267  [19200/40000]\n",
      "loss: 1.742293  [25600/40000]\n",
      "loss: 1.748001  [32000/40000]\n",
      "loss: 1.721846  [38400/40000]\n",
      "\n",
      " -Training Accuracy = 86.9%, Avg loss = 0.027573 \n",
      "\n",
      " -Validation Error: Accuracy = 91.5%, Avg loss = 0.004499 \n",
      "\n",
      "Epoch 2\n",
      "-------------------------------\n",
      "loss: 1.681113  [    0/40000]\n",
      "loss: 1.704578  [ 6400/40000]\n",
      "loss: 1.701204  [12800/40000]\n",
      "loss: 1.693261  [19200/40000]\n",
      "loss: 1.684399  [25600/40000]\n",
      "loss: 1.709813  [32000/40000]\n",
      "loss: 1.689537  [38400/40000]\n",
      "\n",
      " -Training Accuracy = 94.9%, Avg loss = 0.026484 \n",
      "\n",
      " -Validation Error: Accuracy = 93.6%, Avg loss = 0.003274 \n",
      "\n",
      "Epoch 3\n",
      "-------------------------------\n",
      "loss: 1.680231  [    0/40000]\n",
      "loss: 1.669269  [ 6400/40000]\n",
      "loss: 1.701443  [12800/40000]\n",
      "loss: 1.677289  [19200/40000]\n",
      "loss: 1.689735  [25600/40000]\n",
      "loss: 1.688634  [32000/40000]\n",
      "loss: 1.687688  [38400/40000]\n",
      "\n",
      " -Training Accuracy = 97.3%, Avg loss = 0.026162 \n",
      "\n",
      " -Validation Error: Accuracy = 93.0%, Avg loss = 0.003712 \n",
      "\n",
      "Epoch 4\n",
      "-------------------------------\n",
      "loss: 1.682390  [    0/40000]\n",
      "loss: 1.650285  [ 6400/40000]\n",
      "loss: 1.676810  [12800/40000]\n",
      "loss: 1.699220  [19200/40000]\n",
      "loss: 1.675756  [25600/40000]\n",
      "loss: 1.689734  [32000/40000]\n",
      "loss: 1.646321  [38400/40000]\n",
      "\n",
      " -Training Accuracy = 98.4%, Avg loss = 0.026010 \n",
      "\n",
      " -Validation Error: Accuracy = 93.7%, Avg loss = 0.003327 \n",
      "\n",
      "Epoch 5\n",
      "-------------------------------\n",
      "loss: 1.667526  [    0/40000]\n",
      "loss: 1.668007  [ 6400/40000]\n",
      "loss: 1.656756  [12800/40000]\n",
      "loss: 1.653675  [19200/40000]\n",
      "loss: 1.655365  [25600/40000]\n",
      "loss: 1.650916  [32000/40000]\n",
      "loss: 1.666244  [38400/40000]\n",
      "\n",
      " -Training Accuracy = 98.9%, Avg loss = 0.025921 \n",
      "\n",
      " -Validation Error: Accuracy = 93.9%, Avg loss = 0.003272 \n",
      "\n",
      "Epoch 6\n",
      "-------------------------------\n",
      "loss: 1.644508  [    0/40000]\n",
      "loss: 1.659198  [ 6400/40000]\n",
      "loss: 1.652476  [12800/40000]\n",
      "loss: 1.644478  [19200/40000]\n",
      "loss: 1.645792  [25600/40000]\n",
      "loss: 1.656017  [32000/40000]\n",
      "loss: 1.651732  [38400/40000]\n",
      "\n",
      " -Training Accuracy = 99.2%, Avg loss = 0.025878 \n",
      "\n",
      " -Validation Error: Accuracy = 93.4%, Avg loss = 0.003579 \n",
      "\n",
      "Epoch 7\n",
      "-------------------------------\n",
      "loss: 1.648258  [    0/40000]\n",
      "loss: 1.654888  [ 6400/40000]\n",
      "loss: 1.658978  [12800/40000]\n",
      "loss: 1.654323  [19200/40000]\n",
      "loss: 1.651372  [25600/40000]\n",
      "loss: 1.645243  [32000/40000]\n",
      "loss: 1.657041  [38400/40000]\n",
      "\n",
      " -Training Accuracy = 99.4%, Avg loss = 0.025852 \n",
      "\n",
      " -Validation Error: Accuracy = 93.0%, Avg loss = 0.003758 \n",
      "\n",
      "Done!\n"
     ]
    }
   ],
   "source": [
    "from torch.utils.tensorboard import SummaryWriter\n",
    "writer = SummaryWriter(log_dir='knowledgeDistillation_Board')\n",
    "\n",
    "epochs = 7\n",
    "optimizer = torch.optim.Adam(model_resnet18_distilled.parameters(), lr=0.0001)\n",
    "\n",
    "for e in range(epochs):\n",
    "    print(f\"Epoch {e+1}\\n-------------------------------\")\n",
    "    trainAcc, trainLoss = train_Distillation_loop(train_dataloader, model_resnet18_distilled, model_resnet50, distillationLoss(), optimizer)\n",
    "    writer.add_scalar('Accuracy/train', trainAcc, e)\n",
    "    writer.add_scalar('Loss/train', trainLoss, e)\n",
    "\n",
    "    valAcc, valLoss = test_loop(valid_dataloader, model_resnet18_distilled, crossEntropy, 'Validation')\n",
    "    writer.add_scalar('Accuracy/validation', valAcc, e)\n",
    "    writer.add_scalar('Loss/validation', valLoss, e)\n",
    "    \n",
    "print(\"Done!\")"
   ]
  },
  {
   "attachments": {},
   "cell_type": "markdown",
   "metadata": {},
   "source": [
    "### Test and Result"
   ]
  },
  {
   "attachments": {},
   "cell_type": "markdown",
   "metadata": {},
   "source": [
    "* accuracy and loss for Test Dataset"
   ]
  },
  {
   "cell_type": "code",
   "execution_count": 40,
   "metadata": {},
   "outputs": [
    {
     "name": "stdout",
     "output_type": "stream",
     "text": [
      " -Test Error: Accuracy = 92.9%, Avg loss = 0.004074 \n",
      "\n"
     ]
    }
   ],
   "source": [
    "test_loop(test_dataloader, model_resnet18_distilled, crossEntropy, 'Test');"
   ]
  },
  {
   "cell_type": "code",
   "execution_count": 41,
   "metadata": {},
   "outputs": [],
   "source": [
    "y_pred = []\n",
    "y_true = []\n",
    "\n",
    "with torch.no_grad():\n",
    "    for X, Y in test_dataloader:\n",
    "        # Compute prediction and losss\n",
    "        X = X.to(device)\n",
    "        Y = Y.to(device)\n",
    "        pred = model_resnet18_distilled(X)\n",
    "        y_pred.extend(pred.argmax(1).cpu().numpy())\n",
    "        y_true.extend(Y.cpu().numpy())"
   ]
  },
  {
   "attachments": {},
   "cell_type": "markdown",
   "metadata": {},
   "source": [
    "* classification report (precision, recall, accuracy)"
   ]
  },
  {
   "cell_type": "code",
   "execution_count": 42,
   "metadata": {},
   "outputs": [
    {
     "name": "stdout",
     "output_type": "stream",
     "text": [
      "              precision    recall  f1-score   support\n",
      "\n",
      "           0       0.94      0.94      0.94      1000\n",
      "           1       0.96      0.96      0.96      1000\n",
      "           2       0.90      0.94      0.92      1000\n",
      "           3       0.88      0.83      0.85      1000\n",
      "           4       0.87      0.97      0.92      1000\n",
      "           5       0.94      0.81      0.87      1000\n",
      "           6       0.92      0.98      0.95      1000\n",
      "           7       0.98      0.92      0.95      1000\n",
      "           8       0.94      0.98      0.96      1000\n",
      "           9       0.96      0.96      0.96      1000\n",
      "\n",
      "    accuracy                           0.93     10000\n",
      "   macro avg       0.93      0.93      0.93     10000\n",
      "weighted avg       0.93      0.93      0.93     10000\n",
      "\n"
     ]
    }
   ],
   "source": [
    "# classification report\n",
    "print(classification_report(y_true=y_true, \n",
    "                            y_pred=y_pred))"
   ]
  },
  {
   "attachments": {},
   "cell_type": "markdown",
   "metadata": {},
   "source": [
    "* confusion matrix"
   ]
  },
  {
   "cell_type": "code",
   "execution_count": 43,
   "metadata": {},
   "outputs": [
    {
     "name": "stdout",
     "output_type": "stream",
     "text": [
      "[[942   5   8   3   2   0   0   2  34   4]\n",
      " [  4 956   1   0   0   0   2   0   9  28]\n",
      " [ 14   0 941   7  20   1  14   2   1   0]\n",
      " [  3   2  29 834  42  40  37   6   4   3]\n",
      " [  3   1   9   6 967   2   8   2   2   0]\n",
      " [  4   0  36  88  33 814  15   8   2   0]\n",
      " [  3   0   9   5   2   1 979   0   1   0]\n",
      " [ 10   1   6   8  41   8   4 922   0   0]\n",
      " [ 12   3   3   1   0   0   0   0 976   5]\n",
      " [ 12  23   0   1   0   0   0   0   6 958]]\n"
     ]
    }
   ],
   "source": [
    "# Creating confusion matrix\n",
    "## true elements for each class : diagonal elements of matrix in class's row \n",
    "## false elements for each classs : others \n",
    "conf_mat = confusion_matrix(y_true=y_true, y_pred=y_pred)\n",
    "print(conf_mat)"
   ]
  },
  {
   "cell_type": "code",
   "execution_count": 44,
   "metadata": {},
   "outputs": [
    {
     "data": {
      "image/png": "[encoded data removed]",
      "text/plain": [
       "<Figure size 640x480 with 2 Axes>"
      ]
     },
     "metadata": {},
     "output_type": "display_data"
    }
   ],
   "source": [
    "seaborn.heatmap(conf_mat, annot=True, fmt='d', cmap='viridis')\n",
    "plt.xlabel('Predicted label')\n",
    "plt.ylabel('True label')\n",
    "plt.show()"
   ]
  },
  {
   "cell_type": "code",
   "execution_count": 45,
   "metadata": {},
   "outputs": [],
   "source": [
    "torch.save(model_resnet18_distilled.state_dict(), 'model_resnet18_distilled.pth')"
   ]
  },
  {
   "attachments": {},
   "cell_type": "markdown",
   "metadata": {},
   "source": [
    "# C) ResNet18 -> full Fine-tune"
   ]
  },
  {
   "cell_type": "code",
   "execution_count": 46,
   "metadata": {},
   "outputs": [
    {
     "name": "stderr",
     "output_type": "stream",
     "text": [
      "/home/user01/.local/lib/python3.10/site-packages/torchvision/models/_utils.py:135: UserWarning: Using 'weights' as positional parameter(s) is deprecated since 0.13 and may be removed in the future. Please use keyword parameter(s) instead.\n",
      "  warnings.warn(\n"
     ]
    }
   ],
   "source": [
    "weights = ResNet18_Weights.IMAGENET1K_V1\n",
    "model_resnet18 = resnet18(weights)"
   ]
  },
  {
   "cell_type": "code",
   "execution_count": 47,
   "metadata": {},
   "outputs": [
    {
     "data": {
      "text/plain": [
       "ResNet(\n",
       "  (conv1): Conv2d(3, 64, kernel_size=(7, 7), stride=(2, 2), padding=(3, 3), bias=False)\n",
       "  (bn1): BatchNorm2d(64, eps=1e-05, momentum=0.1, affine=True, track_running_stats=True)\n",
       "  (relu): ReLU(inplace=True)\n",
       "  (maxpool): MaxPool2d(kernel_size=3, stride=2, padding=1, dilation=1, ceil_mode=False)\n",
       "  (layer1): Sequential(\n",
       "    (0): BasicBlock(\n",
       "      (conv1): Conv2d(64, 64, kernel_size=(3, 3), stride=(1, 1), padding=(1, 1), bias=False)\n",
       "      (bn1): BatchNorm2d(64, eps=1e-05, momentum=0.1, affine=True, track_running_stats=True)\n",
       "      (relu): ReLU(inplace=True)\n",
       "      (conv2): Conv2d(64, 64, kernel_size=(3, 3), stride=(1, 1), padding=(1, 1), bias=False)\n",
       "      (bn2): BatchNorm2d(64, eps=1e-05, momentum=0.1, affine=True, track_running_stats=True)\n",
       "    )\n",
       "    (1): BasicBlock(\n",
       "      (conv1): Conv2d(64, 64, kernel_size=(3, 3), stride=(1, 1), padding=(1, 1), bias=False)\n",
       "      (bn1): BatchNorm2d(64, eps=1e-05, momentum=0.1, affine=True, track_running_stats=True)\n",
       "      (relu): ReLU(inplace=True)\n",
       "      (conv2): Conv2d(64, 64, kernel_size=(3, 3), stride=(1, 1), padding=(1, 1), bias=False)\n",
       "      (bn2): BatchNorm2d(64, eps=1e-05, momentum=0.1, affine=True, track_running_stats=True)\n",
       "    )\n",
       "  )\n",
       "  (layer2): Sequential(\n",
       "    (0): BasicBlock(\n",
       "      (conv1): Conv2d(64, 128, kernel_size=(3, 3), stride=(2, 2), padding=(1, 1), bias=False)\n",
       "      (bn1): BatchNorm2d(128, eps=1e-05, momentum=0.1, affine=True, track_running_stats=True)\n",
       "      (relu): ReLU(inplace=True)\n",
       "      (conv2): Conv2d(128, 128, kernel_size=(3, 3), stride=(1, 1), padding=(1, 1), bias=False)\n",
       "      (bn2): BatchNorm2d(128, eps=1e-05, momentum=0.1, affine=True, track_running_stats=True)\n",
       "      (downsample): Sequential(\n",
       "        (0): Conv2d(64, 128, kernel_size=(1, 1), stride=(2, 2), bias=False)\n",
       "        (1): BatchNorm2d(128, eps=1e-05, momentum=0.1, affine=True, track_running_stats=True)\n",
       "      )\n",
       "    )\n",
       "    (1): BasicBlock(\n",
       "      (conv1): Conv2d(128, 128, kernel_size=(3, 3), stride=(1, 1), padding=(1, 1), bias=False)\n",
       "      (bn1): BatchNorm2d(128, eps=1e-05, momentum=0.1, affine=True, track_running_stats=True)\n",
       "      (relu): ReLU(inplace=True)\n",
       "      (conv2): Conv2d(128, 128, kernel_size=(3, 3), stride=(1, 1), padding=(1, 1), bias=False)\n",
       "      (bn2): BatchNorm2d(128, eps=1e-05, momentum=0.1, affine=True, track_running_stats=True)\n",
       "    )\n",
       "  )\n",
       "  (layer3): Sequential(\n",
       "    (0): BasicBlock(\n",
       "      (conv1): Conv2d(128, 256, kernel_size=(3, 3), stride=(2, 2), padding=(1, 1), bias=False)\n",
       "      (bn1): BatchNorm2d(256, eps=1e-05, momentum=0.1, affine=True, track_running_stats=True)\n",
       "      (relu): ReLU(inplace=True)\n",
       "      (conv2): Conv2d(256, 256, kernel_size=(3, 3), stride=(1, 1), padding=(1, 1), bias=False)\n",
       "      (bn2): BatchNorm2d(256, eps=1e-05, momentum=0.1, affine=True, track_running_stats=True)\n",
       "      (downsample): Sequential(\n",
       "        (0): Conv2d(128, 256, kernel_size=(1, 1), stride=(2, 2), bias=False)\n",
       "        (1): BatchNorm2d(256, eps=1e-05, momentum=0.1, affine=True, track_running_stats=True)\n",
       "      )\n",
       "    )\n",
       "    (1): BasicBlock(\n",
       "      (conv1): Conv2d(256, 256, kernel_size=(3, 3), stride=(1, 1), padding=(1, 1), bias=False)\n",
       "      (bn1): BatchNorm2d(256, eps=1e-05, momentum=0.1, affine=True, track_running_stats=True)\n",
       "      (relu): ReLU(inplace=True)\n",
       "      (conv2): Conv2d(256, 256, kernel_size=(3, 3), stride=(1, 1), padding=(1, 1), bias=False)\n",
       "      (bn2): BatchNorm2d(256, eps=1e-05, momentum=0.1, affine=True, track_running_stats=True)\n",
       "    )\n",
       "  )\n",
       "  (layer4): Sequential(\n",
       "    (0): BasicBlock(\n",
       "      (conv1): Conv2d(256, 512, kernel_size=(3, 3), stride=(2, 2), padding=(1, 1), bias=False)\n",
       "      (bn1): BatchNorm2d(512, eps=1e-05, momentum=0.1, affine=True, track_running_stats=True)\n",
       "      (relu): ReLU(inplace=True)\n",
       "      (conv2): Conv2d(512, 512, kernel_size=(3, 3), stride=(1, 1), padding=(1, 1), bias=False)\n",
       "      (bn2): BatchNorm2d(512, eps=1e-05, momentum=0.1, affine=True, track_running_stats=True)\n",
       "      (downsample): Sequential(\n",
       "        (0): Conv2d(256, 512, kernel_size=(1, 1), stride=(2, 2), bias=False)\n",
       "        (1): BatchNorm2d(512, eps=1e-05, momentum=0.1, affine=True, track_running_stats=True)\n",
       "      )\n",
       "    )\n",
       "    (1): BasicBlock(\n",
       "      (conv1): Conv2d(512, 512, kernel_size=(3, 3), stride=(1, 1), padding=(1, 1), bias=False)\n",
       "      (bn1): BatchNorm2d(512, eps=1e-05, momentum=0.1, affine=True, track_running_stats=True)\n",
       "      (relu): ReLU(inplace=True)\n",
       "      (conv2): Conv2d(512, 512, kernel_size=(3, 3), stride=(1, 1), padding=(1, 1), bias=False)\n",
       "      (bn2): BatchNorm2d(512, eps=1e-05, momentum=0.1, affine=True, track_running_stats=True)\n",
       "    )\n",
       "  )\n",
       "  (avgpool): AdaptiveAvgPool2d(output_size=(1, 1))\n",
       "  (fc): Linear(in_features=512, out_features=10, bias=True)\n",
       ")"
      ]
     },
     "execution_count": 47,
     "metadata": {},
     "output_type": "execute_result"
    }
   ],
   "source": [
    "model_resnet18.fc  = nn.Linear(512,10)\n",
    "model_resnet18.to(device)"
   ]
  },
  {
   "attachments": {},
   "cell_type": "markdown",
   "metadata": {},
   "source": [
    "### Training model & Optimization & TensorBoard"
   ]
  },
  {
   "cell_type": "code",
   "execution_count": 48,
   "metadata": {},
   "outputs": [
    {
     "name": "stdout",
     "output_type": "stream",
     "text": [
      "Epoch 1\n",
      "-------------------------------\n",
      "loss: 2.482748  [    0/40000]\n",
      "loss: 0.312475  [ 6400/40000]\n",
      "loss: 0.412458  [12800/40000]\n",
      "loss: 0.301495  [19200/40000]\n",
      "loss: 0.361847  [25600/40000]\n",
      "loss: 0.344441  [32000/40000]\n",
      "loss: 0.295118  [38400/40000]\n",
      "\n",
      " -Training Accuracy = 87.3%, Avg loss = 0.005941 \n",
      "\n",
      " -Validation Error: Accuracy = 92.5%, Avg loss = 0.003379 \n",
      "\n",
      "Epoch 2\n",
      "-------------------------------\n",
      "loss: 0.079196  [    0/40000]\n",
      "loss: 0.041199  [ 6400/40000]\n",
      "loss: 0.060077  [12800/40000]\n",
      "loss: 0.059967  [19200/40000]\n",
      "loss: 0.041139  [25600/40000]\n",
      "loss: 0.223245  [32000/40000]\n",
      "loss: 0.163036  [38400/40000]\n",
      "\n",
      " -Training Accuracy = 96.5%, Avg loss = 0.001709 \n",
      "\n",
      " -Validation Error: Accuracy = 93.0%, Avg loss = 0.003387 \n",
      "\n",
      "Epoch 3\n",
      "-------------------------------\n",
      "loss: 0.058573  [    0/40000]\n",
      "loss: 0.017799  [ 6400/40000]\n",
      "loss: 0.015766  [12800/40000]\n",
      "loss: 0.028446  [19200/40000]\n",
      "loss: 0.014500  [25600/40000]\n",
      "loss: 0.082659  [32000/40000]\n",
      "loss: 0.015139  [38400/40000]\n",
      "\n",
      " -Training Accuracy = 98.5%, Avg loss = 0.000746 \n",
      "\n",
      " -Validation Error: Accuracy = 92.4%, Avg loss = 0.003937 \n",
      "\n",
      "Epoch 4\n",
      "-------------------------------\n",
      "loss: 0.029429  [    0/40000]\n",
      "loss: 0.112038  [ 6400/40000]\n",
      "loss: 0.008944  [12800/40000]\n",
      "loss: 0.003031  [19200/40000]\n",
      "loss: 0.033337  [25600/40000]\n",
      "loss: 0.060578  [32000/40000]\n",
      "loss: 0.154859  [38400/40000]\n",
      "\n",
      " -Training Accuracy = 98.6%, Avg loss = 0.000650 \n",
      "\n",
      " -Validation Error: Accuracy = 92.3%, Avg loss = 0.004386 \n",
      "\n",
      "Epoch 5\n",
      "-------------------------------\n",
      "loss: 0.010965  [    0/40000]\n",
      "loss: 0.032432  [ 6400/40000]\n",
      "loss: 0.007391  [12800/40000]\n",
      "loss: 0.146011  [19200/40000]\n",
      "loss: 0.001256  [25600/40000]\n",
      "loss: 0.009747  [32000/40000]\n",
      "loss: 0.053096  [38400/40000]\n",
      "\n",
      " -Training Accuracy = 98.7%, Avg loss = 0.000595 \n",
      "\n",
      " -Validation Error: Accuracy = 92.3%, Avg loss = 0.004313 \n",
      "\n",
      "Epoch 6\n",
      "-------------------------------\n",
      "loss: 0.010306  [    0/40000]\n",
      "loss: 0.022737  [ 6400/40000]\n",
      "loss: 0.061099  [12800/40000]\n",
      "loss: 0.051515  [19200/40000]\n",
      "loss: 0.034054  [25600/40000]\n",
      "loss: 0.010977  [32000/40000]\n",
      "loss: 0.035103  [38400/40000]\n",
      "\n",
      " -Training Accuracy = 99.0%, Avg loss = 0.000459 \n",
      "\n",
      " -Validation Error: Accuracy = 92.9%, Avg loss = 0.004062 \n",
      "\n",
      "Epoch 7\n",
      "-------------------------------\n",
      "loss: 0.074117  [    0/40000]\n",
      "loss: 0.003269  [ 6400/40000]\n",
      "loss: 0.006566  [12800/40000]\n",
      "loss: 0.063706  [19200/40000]\n",
      "loss: 0.007289  [25600/40000]\n",
      "loss: 0.009400  [32000/40000]\n",
      "loss: 0.028972  [38400/40000]\n",
      "\n",
      " -Training Accuracy = 99.2%, Avg loss = 0.000400 \n",
      "\n",
      " -Validation Error: Accuracy = 92.9%, Avg loss = 0.004386 \n",
      "\n",
      "Done!\n"
     ]
    }
   ],
   "source": [
    "from torch.utils.tensorboard import SummaryWriter\n",
    "writer = SummaryWriter(log_dir='ResNet18_Board')\n",
    "\n",
    "epochs = 7\n",
    "optimizer = torch.optim.Adam(model_resnet18.parameters(), lr=0.0001)\n",
    "\n",
    "for e in range(epochs):\n",
    "    print(f\"Epoch {e+1}\\n-------------------------------\")\n",
    "    trainAcc, trainLoss = train_loop(train_dataloader, model_resnet18, crossEntropy, optimizer)\n",
    "    writer.add_scalar('Accuracy/train', trainAcc, e)\n",
    "    writer.add_scalar('Loss/train', trainLoss, e)\n",
    "\n",
    "    valAcc, valLoss = test_loop(valid_dataloader, model_resnet18, crossEntropy, 'Validation')\n",
    "    writer.add_scalar('Accuracy/validation', valAcc, e)\n",
    "    writer.add_scalar('Loss/validation', valLoss, e)\n",
    "    \n",
    "print(\"Done!\")"
   ]
  },
  {
   "attachments": {},
   "cell_type": "markdown",
   "metadata": {},
   "source": [
    "### Test and Result"
   ]
  },
  {
   "attachments": {},
   "cell_type": "markdown",
   "metadata": {},
   "source": [
    "* accuracy and loss for Test Dataset"
   ]
  },
  {
   "cell_type": "code",
   "execution_count": 49,
   "metadata": {},
   "outputs": [
    {
     "name": "stdout",
     "output_type": "stream",
     "text": [
      " -Test Error: Accuracy = 92.3%, Avg loss = 0.004667 \n",
      "\n"
     ]
    }
   ],
   "source": [
    "test_loop(test_dataloader, model_resnet18, crossEntropy, 'Test');"
   ]
  },
  {
   "cell_type": "code",
   "execution_count": 50,
   "metadata": {},
   "outputs": [],
   "source": [
    "y_pred = []\n",
    "y_true = []\n",
    "\n",
    "with torch.no_grad():\n",
    "    for X, Y in test_dataloader:\n",
    "        # Compute prediction and losss\n",
    "        X = X.to(device)\n",
    "        Y = Y.to(device)\n",
    "        pred = model_resnet18(X)\n",
    "        y_pred.extend(pred.argmax(1).cpu().numpy())\n",
    "        y_true.extend(Y.cpu().numpy())"
   ]
  },
  {
   "attachments": {},
   "cell_type": "markdown",
   "metadata": {},
   "source": [
    "* classification report (precision, recall, accuracy)"
   ]
  },
  {
   "cell_type": "code",
   "execution_count": 51,
   "metadata": {},
   "outputs": [
    {
     "name": "stdout",
     "output_type": "stream",
     "text": [
      "              precision    recall  f1-score   support\n",
      "\n",
      "           0       0.87      0.96      0.91      1000\n",
      "           1       0.96      0.96      0.96      1000\n",
      "           2       0.93      0.86      0.89      1000\n",
      "           3       0.89      0.81      0.85      1000\n",
      "           4       0.90      0.92      0.91      1000\n",
      "           5       0.87      0.90      0.88      1000\n",
      "           6       0.95      0.95      0.95      1000\n",
      "           7       0.96      0.95      0.95      1000\n",
      "           8       0.95      0.97      0.96      1000\n",
      "           9       0.96      0.95      0.95      1000\n",
      "\n",
      "    accuracy                           0.92     10000\n",
      "   macro avg       0.92      0.92      0.92     10000\n",
      "weighted avg       0.92      0.92      0.92     10000\n",
      "\n"
     ]
    }
   ],
   "source": [
    "# classification report\n",
    "print(classification_report(y_true=y_true, \n",
    "                            y_pred=y_pred))"
   ]
  },
  {
   "attachments": {},
   "cell_type": "markdown",
   "metadata": {},
   "source": [
    "* confusion matrix"
   ]
  },
  {
   "cell_type": "code",
   "execution_count": 52,
   "metadata": {},
   "outputs": [
    {
     "name": "stdout",
     "output_type": "stream",
     "text": [
      "[[960   3   2   3   0   0   0   0  27   5]\n",
      " [  5 962   0   1   0   0   0   0   5  27]\n",
      " [ 68   0 863  11  26  12  10   7   2   1]\n",
      " [ 18   1  22 813  29  81  23   8   2   3]\n",
      " [ 10   0  17   9 919  17   6  21   1   0]\n",
      " [  3   0   8  66  13 897   6   7   0   0]\n",
      " [  9   1  13   5  17   7 946   1   0   1]\n",
      " [  8   1   4   6  13  14   0 954   0   0]\n",
      " [ 13   5   3   0   0   1   0   0 971   7]\n",
      " [ 10  26   0   1   1   0   1   0  11 950]]\n"
     ]
    }
   ],
   "source": [
    "# Creating confusion matrix\n",
    "## true elements for each class : diagonal elements of matrix in class's row \n",
    "## false elements for each classs : others \n",
    "conf_mat = confusion_matrix(y_true=y_true, y_pred=y_pred)\n",
    "print(conf_mat)"
   ]
  },
  {
   "cell_type": "code",
   "execution_count": 53,
   "metadata": {},
   "outputs": [
    {
     "data": {
      "image/png": "[encoded data removed]",
      "text/plain": [
       "<Figure size 640x480 with 2 Axes>"
      ]
     },
     "metadata": {},
     "output_type": "display_data"
    }
   ],
   "source": [
    "seaborn.heatmap(conf_mat, annot=True, fmt='d', cmap='viridis')\n",
    "plt.xlabel('Predicted label')\n",
    "plt.ylabel('True label')\n",
    "plt.show()"
   ]
  },
  {
   "cell_type": "code",
   "execution_count": 54,
   "metadata": {},
   "outputs": [],
   "source": [
    "torch.save(model_resnet18.state_dict(), 'model_resnet18.pth')"
   ]
  },
  {
   "attachments": {},
   "cell_type": "markdown",
   "metadata": {},
   "source": [
    "### Comparing `B` and `C`:\n",
    "> **Advantages of knowledge distillation**:\n",
    "> * Less compute requirements and better performance than model trained without teacher model because the student model learns the characteristics of the teacher. \n",
    "> * Using a lighter model\n",
    "> * Better accuracy than stand-alone model\n",
    "> * Can be used even when there is lesser training data available for the student model"
   ]
  },
  {
   "attachments": {},
   "cell_type": "markdown",
   "metadata": {},
   "source": [
    "# D) Knowledge distillation -> ResNet18 as Student and ResNet50(full fine-tuned) as Teacher"
   ]
  },
  {
   "attachments": {},
   "cell_type": "markdown",
   "metadata": {},
   "source": [
    "## ResNet50 Fine-tune:"
   ]
  },
  {
   "cell_type": "code",
   "execution_count": 55,
   "metadata": {},
   "outputs": [
    {
     "name": "stderr",
     "output_type": "stream",
     "text": [
      "/home/user01/.local/lib/python3.10/site-packages/torchvision/models/_utils.py:135: UserWarning: Using 'weights' as positional parameter(s) is deprecated since 0.13 and may be removed in the future. Please use keyword parameter(s) instead.\n",
      "  warnings.warn(\n"
     ]
    }
   ],
   "source": [
    "weights = ResNet50_Weights.IMAGENET1K_V2\n",
    "model_resnet50_full = resnet50(weights)"
   ]
  },
  {
   "cell_type": "code",
   "execution_count": 56,
   "metadata": {},
   "outputs": [
    {
     "data": {
      "text/plain": [
       "ResNet(\n",
       "  (conv1): Conv2d(3, 64, kernel_size=(7, 7), stride=(2, 2), padding=(3, 3), bias=False)\n",
       "  (bn1): BatchNorm2d(64, eps=1e-05, momentum=0.1, affine=True, track_running_stats=True)\n",
       "  (relu): ReLU(inplace=True)\n",
       "  (maxpool): MaxPool2d(kernel_size=3, stride=2, padding=1, dilation=1, ceil_mode=False)\n",
       "  (layer1): Sequential(\n",
       "    (0): Bottleneck(\n",
       "      (conv1): Conv2d(64, 64, kernel_size=(1, 1), stride=(1, 1), bias=False)\n",
       "      (bn1): BatchNorm2d(64, eps=1e-05, momentum=0.1, affine=True, track_running_stats=True)\n",
       "      (conv2): Conv2d(64, 64, kernel_size=(3, 3), stride=(1, 1), padding=(1, 1), bias=False)\n",
       "      (bn2): BatchNorm2d(64, eps=1e-05, momentum=0.1, affine=True, track_running_stats=True)\n",
       "      (conv3): Conv2d(64, 256, kernel_size=(1, 1), stride=(1, 1), bias=False)\n",
       "      (bn3): BatchNorm2d(256, eps=1e-05, momentum=0.1, affine=True, track_running_stats=True)\n",
       "      (relu): ReLU(inplace=True)\n",
       "      (downsample): Sequential(\n",
       "        (0): Conv2d(64, 256, kernel_size=(1, 1), stride=(1, 1), bias=False)\n",
       "        (1): BatchNorm2d(256, eps=1e-05, momentum=0.1, affine=True, track_running_stats=True)\n",
       "      )\n",
       "    )\n",
       "    (1): Bottleneck(\n",
       "      (conv1): Conv2d(256, 64, kernel_size=(1, 1), stride=(1, 1), bias=False)\n",
       "      (bn1): BatchNorm2d(64, eps=1e-05, momentum=0.1, affine=True, track_running_stats=True)\n",
       "      (conv2): Conv2d(64, 64, kernel_size=(3, 3), stride=(1, 1), padding=(1, 1), bias=False)\n",
       "      (bn2): BatchNorm2d(64, eps=1e-05, momentum=0.1, affine=True, track_running_stats=True)\n",
       "      (conv3): Conv2d(64, 256, kernel_size=(1, 1), stride=(1, 1), bias=False)\n",
       "      (bn3): BatchNorm2d(256, eps=1e-05, momentum=0.1, affine=True, track_running_stats=True)\n",
       "      (relu): ReLU(inplace=True)\n",
       "    )\n",
       "    (2): Bottleneck(\n",
       "      (conv1): Conv2d(256, 64, kernel_size=(1, 1), stride=(1, 1), bias=False)\n",
       "      (bn1): BatchNorm2d(64, eps=1e-05, momentum=0.1, affine=True, track_running_stats=True)\n",
       "      (conv2): Conv2d(64, 64, kernel_size=(3, 3), stride=(1, 1), padding=(1, 1), bias=False)\n",
       "      (bn2): BatchNorm2d(64, eps=1e-05, momentum=0.1, affine=True, track_running_stats=True)\n",
       "      (conv3): Conv2d(64, 256, kernel_size=(1, 1), stride=(1, 1), bias=False)\n",
       "      (bn3): BatchNorm2d(256, eps=1e-05, momentum=0.1, affine=True, track_running_stats=True)\n",
       "      (relu): ReLU(inplace=True)\n",
       "    )\n",
       "  )\n",
       "  (layer2): Sequential(\n",
       "    (0): Bottleneck(\n",
       "      (conv1): Conv2d(256, 128, kernel_size=(1, 1), stride=(1, 1), bias=False)\n",
       "      (bn1): BatchNorm2d(128, eps=1e-05, momentum=0.1, affine=True, track_running_stats=True)\n",
       "      (conv2): Conv2d(128, 128, kernel_size=(3, 3), stride=(2, 2), padding=(1, 1), bias=False)\n",
       "      (bn2): BatchNorm2d(128, eps=1e-05, momentum=0.1, affine=True, track_running_stats=True)\n",
       "      (conv3): Conv2d(128, 512, kernel_size=(1, 1), stride=(1, 1), bias=False)\n",
       "      (bn3): BatchNorm2d(512, eps=1e-05, momentum=0.1, affine=True, track_running_stats=True)\n",
       "      (relu): ReLU(inplace=True)\n",
       "      (downsample): Sequential(\n",
       "        (0): Conv2d(256, 512, kernel_size=(1, 1), stride=(2, 2), bias=False)\n",
       "        (1): BatchNorm2d(512, eps=1e-05, momentum=0.1, affine=True, track_running_stats=True)\n",
       "      )\n",
       "    )\n",
       "    (1): Bottleneck(\n",
       "      (conv1): Conv2d(512, 128, kernel_size=(1, 1), stride=(1, 1), bias=False)\n",
       "      (bn1): BatchNorm2d(128, eps=1e-05, momentum=0.1, affine=True, track_running_stats=True)\n",
       "      (conv2): Conv2d(128, 128, kernel_size=(3, 3), stride=(1, 1), padding=(1, 1), bias=False)\n",
       "      (bn2): BatchNorm2d(128, eps=1e-05, momentum=0.1, affine=True, track_running_stats=True)\n",
       "      (conv3): Conv2d(128, 512, kernel_size=(1, 1), stride=(1, 1), bias=False)\n",
       "      (bn3): BatchNorm2d(512, eps=1e-05, momentum=0.1, affine=True, track_running_stats=True)\n",
       "      (relu): ReLU(inplace=True)\n",
       "    )\n",
       "    (2): Bottleneck(\n",
       "      (conv1): Conv2d(512, 128, kernel_size=(1, 1), stride=(1, 1), bias=False)\n",
       "      (bn1): BatchNorm2d(128, eps=1e-05, momentum=0.1, affine=True, track_running_stats=True)\n",
       "      (conv2): Conv2d(128, 128, kernel_size=(3, 3), stride=(1, 1), padding=(1, 1), bias=False)\n",
       "      (bn2): BatchNorm2d(128, eps=1e-05, momentum=0.1, affine=True, track_running_stats=True)\n",
       "      (conv3): Conv2d(128, 512, kernel_size=(1, 1), stride=(1, 1), bias=False)\n",
       "      (bn3): BatchNorm2d(512, eps=1e-05, momentum=0.1, affine=True, track_running_stats=True)\n",
       "      (relu): ReLU(inplace=True)\n",
       "    )\n",
       "    (3): Bottleneck(\n",
       "      (conv1): Conv2d(512, 128, kernel_size=(1, 1), stride=(1, 1), bias=False)\n",
       "      (bn1): BatchNorm2d(128, eps=1e-05, momentum=0.1, affine=True, track_running_stats=True)\n",
       "      (conv2): Conv2d(128, 128, kernel_size=(3, 3), stride=(1, 1), padding=(1, 1), bias=False)\n",
       "      (bn2): BatchNorm2d(128, eps=1e-05, momentum=0.1, affine=True, track_running_stats=True)\n",
       "      (conv3): Conv2d(128, 512, kernel_size=(1, 1), stride=(1, 1), bias=False)\n",
       "      (bn3): BatchNorm2d(512, eps=1e-05, momentum=0.1, affine=True, track_running_stats=True)\n",
       "      (relu): ReLU(inplace=True)\n",
       "    )\n",
       "  )\n",
       "  (layer3): Sequential(\n",
       "    (0): Bottleneck(\n",
       "      (conv1): Conv2d(512, 256, kernel_size=(1, 1), stride=(1, 1), bias=False)\n",
       "      (bn1): BatchNorm2d(256, eps=1e-05, momentum=0.1, affine=True, track_running_stats=True)\n",
       "      (conv2): Conv2d(256, 256, kernel_size=(3, 3), stride=(2, 2), padding=(1, 1), bias=False)\n",
       "      (bn2): BatchNorm2d(256, eps=1e-05, momentum=0.1, affine=True, track_running_stats=True)\n",
       "      (conv3): Conv2d(256, 1024, kernel_size=(1, 1), stride=(1, 1), bias=False)\n",
       "      (bn3): BatchNorm2d(1024, eps=1e-05, momentum=0.1, affine=True, track_running_stats=True)\n",
       "      (relu): ReLU(inplace=True)\n",
       "      (downsample): Sequential(\n",
       "        (0): Conv2d(512, 1024, kernel_size=(1, 1), stride=(2, 2), bias=False)\n",
       "        (1): BatchNorm2d(1024, eps=1e-05, momentum=0.1, affine=True, track_running_stats=True)\n",
       "      )\n",
       "    )\n",
       "    (1): Bottleneck(\n",
       "      (conv1): Conv2d(1024, 256, kernel_size=(1, 1), stride=(1, 1), bias=False)\n",
       "      (bn1): BatchNorm2d(256, eps=1e-05, momentum=0.1, affine=True, track_running_stats=True)\n",
       "      (conv2): Conv2d(256, 256, kernel_size=(3, 3), stride=(1, 1), padding=(1, 1), bias=False)\n",
       "      (bn2): BatchNorm2d(256, eps=1e-05, momentum=0.1, affine=True, track_running_stats=True)\n",
       "      (conv3): Conv2d(256, 1024, kernel_size=(1, 1), stride=(1, 1), bias=False)\n",
       "      (bn3): BatchNorm2d(1024, eps=1e-05, momentum=0.1, affine=True, track_running_stats=True)\n",
       "      (relu): ReLU(inplace=True)\n",
       "    )\n",
       "    (2): Bottleneck(\n",
       "      (conv1): Conv2d(1024, 256, kernel_size=(1, 1), stride=(1, 1), bias=False)\n",
       "      (bn1): BatchNorm2d(256, eps=1e-05, momentum=0.1, affine=True, track_running_stats=True)\n",
       "      (conv2): Conv2d(256, 256, kernel_size=(3, 3), stride=(1, 1), padding=(1, 1), bias=False)\n",
       "      (bn2): BatchNorm2d(256, eps=1e-05, momentum=0.1, affine=True, track_running_stats=True)\n",
       "      (conv3): Conv2d(256, 1024, kernel_size=(1, 1), stride=(1, 1), bias=False)\n",
       "      (bn3): BatchNorm2d(1024, eps=1e-05, momentum=0.1, affine=True, track_running_stats=True)\n",
       "      (relu): ReLU(inplace=True)\n",
       "    )\n",
       "    (3): Bottleneck(\n",
       "      (conv1): Conv2d(1024, 256, kernel_size=(1, 1), stride=(1, 1), bias=False)\n",
       "      (bn1): BatchNorm2d(256, eps=1e-05, momentum=0.1, affine=True, track_running_stats=True)\n",
       "      (conv2): Conv2d(256, 256, kernel_size=(3, 3), stride=(1, 1), padding=(1, 1), bias=False)\n",
       "      (bn2): BatchNorm2d(256, eps=1e-05, momentum=0.1, affine=True, track_running_stats=True)\n",
       "      (conv3): Conv2d(256, 1024, kernel_size=(1, 1), stride=(1, 1), bias=False)\n",
       "      (bn3): BatchNorm2d(1024, eps=1e-05, momentum=0.1, affine=True, track_running_stats=True)\n",
       "      (relu): ReLU(inplace=True)\n",
       "    )\n",
       "    (4): Bottleneck(\n",
       "      (conv1): Conv2d(1024, 256, kernel_size=(1, 1), stride=(1, 1), bias=False)\n",
       "      (bn1): BatchNorm2d(256, eps=1e-05, momentum=0.1, affine=True, track_running_stats=True)\n",
       "      (conv2): Conv2d(256, 256, kernel_size=(3, 3), stride=(1, 1), padding=(1, 1), bias=False)\n",
       "      (bn2): BatchNorm2d(256, eps=1e-05, momentum=0.1, affine=True, track_running_stats=True)\n",
       "      (conv3): Conv2d(256, 1024, kernel_size=(1, 1), stride=(1, 1), bias=False)\n",
       "      (bn3): BatchNorm2d(1024, eps=1e-05, momentum=0.1, affine=True, track_running_stats=True)\n",
       "      (relu): ReLU(inplace=True)\n",
       "    )\n",
       "    (5): Bottleneck(\n",
       "      (conv1): Conv2d(1024, 256, kernel_size=(1, 1), stride=(1, 1), bias=False)\n",
       "      (bn1): BatchNorm2d(256, eps=1e-05, momentum=0.1, affine=True, track_running_stats=True)\n",
       "      (conv2): Conv2d(256, 256, kernel_size=(3, 3), stride=(1, 1), padding=(1, 1), bias=False)\n",
       "      (bn2): BatchNorm2d(256, eps=1e-05, momentum=0.1, affine=True, track_running_stats=True)\n",
       "      (conv3): Conv2d(256, 1024, kernel_size=(1, 1), stride=(1, 1), bias=False)\n",
       "      (bn3): BatchNorm2d(1024, eps=1e-05, momentum=0.1, affine=True, track_running_stats=True)\n",
       "      (relu): ReLU(inplace=True)\n",
       "    )\n",
       "  )\n",
       "  (layer4): Sequential(\n",
       "    (0): Bottleneck(\n",
       "      (conv1): Conv2d(1024, 512, kernel_size=(1, 1), stride=(1, 1), bias=False)\n",
       "      (bn1): BatchNorm2d(512, eps=1e-05, momentum=0.1, affine=True, track_running_stats=True)\n",
       "      (conv2): Conv2d(512, 512, kernel_size=(3, 3), stride=(2, 2), padding=(1, 1), bias=False)\n",
       "      (bn2): BatchNorm2d(512, eps=1e-05, momentum=0.1, affine=True, track_running_stats=True)\n",
       "      (conv3): Conv2d(512, 2048, kernel_size=(1, 1), stride=(1, 1), bias=False)\n",
       "      (bn3): BatchNorm2d(2048, eps=1e-05, momentum=0.1, affine=True, track_running_stats=True)\n",
       "      (relu): ReLU(inplace=True)\n",
       "      (downsample): Sequential(\n",
       "        (0): Conv2d(1024, 2048, kernel_size=(1, 1), stride=(2, 2), bias=False)\n",
       "        (1): BatchNorm2d(2048, eps=1e-05, momentum=0.1, affine=True, track_running_stats=True)\n",
       "      )\n",
       "    )\n",
       "    (1): Bottleneck(\n",
       "      (conv1): Conv2d(2048, 512, kernel_size=(1, 1), stride=(1, 1), bias=False)\n",
       "      (bn1): BatchNorm2d(512, eps=1e-05, momentum=0.1, affine=True, track_running_stats=True)\n",
       "      (conv2): Conv2d(512, 512, kernel_size=(3, 3), stride=(1, 1), padding=(1, 1), bias=False)\n",
       "      (bn2): BatchNorm2d(512, eps=1e-05, momentum=0.1, affine=True, track_running_stats=True)\n",
       "      (conv3): Conv2d(512, 2048, kernel_size=(1, 1), stride=(1, 1), bias=False)\n",
       "      (bn3): BatchNorm2d(2048, eps=1e-05, momentum=0.1, affine=True, track_running_stats=True)\n",
       "      (relu): ReLU(inplace=True)\n",
       "    )\n",
       "    (2): Bottleneck(\n",
       "      (conv1): Conv2d(2048, 512, kernel_size=(1, 1), stride=(1, 1), bias=False)\n",
       "      (bn1): BatchNorm2d(512, eps=1e-05, momentum=0.1, affine=True, track_running_stats=True)\n",
       "      (conv2): Conv2d(512, 512, kernel_size=(3, 3), stride=(1, 1), padding=(1, 1), bias=False)\n",
       "      (bn2): BatchNorm2d(512, eps=1e-05, momentum=0.1, affine=True, track_running_stats=True)\n",
       "      (conv3): Conv2d(512, 2048, kernel_size=(1, 1), stride=(1, 1), bias=False)\n",
       "      (bn3): BatchNorm2d(2048, eps=1e-05, momentum=0.1, affine=True, track_running_stats=True)\n",
       "      (relu): ReLU(inplace=True)\n",
       "    )\n",
       "  )\n",
       "  (avgpool): AdaptiveAvgPool2d(output_size=(1, 1))\n",
       "  (fc): Linear(in_features=2048, out_features=10, bias=True)\n",
       ")"
      ]
     },
     "execution_count": 56,
     "metadata": {},
     "output_type": "execute_result"
    }
   ],
   "source": [
    "model_resnet50_full.fc = nn.Linear(2048,10)\n",
    "model_resnet50_full.to(device)"
   ]
  },
  {
   "attachments": {},
   "cell_type": "markdown",
   "metadata": {},
   "source": [
    "### Training model & Optimization & TensorBoard"
   ]
  },
  {
   "cell_type": "code",
   "execution_count": 57,
   "metadata": {},
   "outputs": [
    {
     "name": "stdout",
     "output_type": "stream",
     "text": [
      "Epoch 1\n",
      "-------------------------------\n",
      "loss: 2.360559  [    0/40000]\n",
      "loss: 0.337418  [ 6400/40000]\n",
      "loss: 0.465908  [12800/40000]\n",
      "loss: 0.318743  [19200/40000]\n",
      "loss: 0.299297  [25600/40000]\n",
      "loss: 0.209263  [32000/40000]\n",
      "loss: 0.048351  [38400/40000]\n",
      "\n",
      " -Training Accuracy = 90.2%, Avg loss = 0.005112 \n",
      "\n",
      " -Validation Error: Accuracy = 95.5%, Avg loss = 0.002154 \n",
      "\n",
      "Epoch 2\n",
      "-------------------------------\n",
      "loss: 0.042656  [    0/40000]\n",
      "loss: 0.135490  [ 6400/40000]\n",
      "loss: 0.147229  [12800/40000]\n",
      "loss: 0.043107  [19200/40000]\n",
      "loss: 0.022091  [25600/40000]\n",
      "loss: 0.174488  [32000/40000]\n",
      "loss: 0.122460  [38400/40000]\n",
      "\n",
      " -Training Accuracy = 97.6%, Avg loss = 0.001139 \n",
      "\n",
      " -Validation Error: Accuracy = 95.8%, Avg loss = 0.002009 \n",
      "\n",
      "Epoch 3\n",
      "-------------------------------\n",
      "loss: 0.078620  [    0/40000]\n",
      "loss: 0.007630  [ 6400/40000]\n",
      "loss: 0.018753  [12800/40000]\n",
      "loss: 0.091526  [19200/40000]\n",
      "loss: 0.006121  [25600/40000]\n",
      "loss: 0.094515  [32000/40000]\n",
      "loss: 0.030317  [38400/40000]\n",
      "\n",
      " -Training Accuracy = 98.7%, Avg loss = 0.000629 \n",
      "\n",
      " -Validation Error: Accuracy = 95.6%, Avg loss = 0.002283 \n",
      "\n",
      "Epoch 4\n",
      "-------------------------------\n",
      "loss: 0.068861  [    0/40000]\n",
      "loss: 0.010266  [ 6400/40000]\n",
      "loss: 0.104052  [12800/40000]\n",
      "loss: 0.045041  [19200/40000]\n",
      "loss: 0.004359  [25600/40000]\n",
      "loss: 0.014356  [32000/40000]\n",
      "loss: 0.014631  [38400/40000]\n",
      "\n",
      " -Training Accuracy = 99.0%, Avg loss = 0.000469 \n",
      "\n",
      " -Validation Error: Accuracy = 95.7%, Avg loss = 0.002451 \n",
      "\n",
      "Epoch 5\n",
      "-------------------------------\n",
      "loss: 0.002482  [    0/40000]\n",
      "loss: 0.035736  [ 6400/40000]\n",
      "loss: 0.028511  [12800/40000]\n",
      "loss: 0.011196  [19200/40000]\n",
      "loss: 0.039885  [25600/40000]\n",
      "loss: 0.017924  [32000/40000]\n",
      "loss: 0.001394  [38400/40000]\n",
      "\n",
      " -Training Accuracy = 99.2%, Avg loss = 0.000393 \n",
      "\n",
      " -Validation Error: Accuracy = 95.6%, Avg loss = 0.002696 \n",
      "\n",
      "Epoch 6\n",
      "-------------------------------\n",
      "loss: 0.126178  [    0/40000]\n",
      "loss: 0.001665  [ 6400/40000]\n",
      "loss: 0.042221  [12800/40000]\n",
      "loss: 0.007130  [19200/40000]\n",
      "loss: 0.009221  [25600/40000]\n",
      "loss: 0.139273  [32000/40000]\n",
      "loss: 0.075626  [38400/40000]\n",
      "\n",
      " -Training Accuracy = 99.2%, Avg loss = 0.000381 \n",
      "\n",
      " -Validation Error: Accuracy = 95.9%, Avg loss = 0.002268 \n",
      "\n",
      "Epoch 7\n",
      "-------------------------------\n",
      "loss: 0.014870  [    0/40000]\n",
      "loss: 0.006940  [ 6400/40000]\n",
      "loss: 0.008149  [12800/40000]\n",
      "loss: 0.018156  [19200/40000]\n",
      "loss: 0.017043  [25600/40000]\n",
      "loss: 0.021726  [32000/40000]\n",
      "loss: 0.001933  [38400/40000]\n",
      "\n",
      " -Training Accuracy = 99.3%, Avg loss = 0.000336 \n",
      "\n",
      " -Validation Error: Accuracy = 95.9%, Avg loss = 0.002473 \n",
      "\n",
      "Done!\n"
     ]
    }
   ],
   "source": [
    "from torch.utils.tensorboard import SummaryWriter\n",
    "writer = SummaryWriter(log_dir='ResNet50_Board')\n",
    "\n",
    "epochs = 7\n",
    "optimizer = torch.optim.Adam(model_resnet50_full.parameters(), lr=0.0001)\n",
    "\n",
    "for e in range(epochs):\n",
    "    print(f\"Epoch {e+1}\\n-------------------------------\")\n",
    "    trainAcc, trainLoss = train_loop(train_dataloader, model_resnet50_full, crossEntropy, optimizer)\n",
    "    writer.add_scalar('Accuracy/train', trainAcc, e)\n",
    "    writer.add_scalar('Loss/train', trainLoss, e)\n",
    "\n",
    "    valAcc, valLoss = test_loop(valid_dataloader, model_resnet50_full, crossEntropy, 'Validation')\n",
    "    writer.add_scalar('Accuracy/validation', valAcc, e)\n",
    "    writer.add_scalar('Loss/validation', valLoss, e)\n",
    "    \n",
    "print(\"Done!\")"
   ]
  },
  {
   "attachments": {},
   "cell_type": "markdown",
   "metadata": {},
   "source": [
    "## ResNet18 : Knowledge distillation"
   ]
  },
  {
   "cell_type": "code",
   "execution_count": 58,
   "metadata": {},
   "outputs": [],
   "source": [
    "weights = ResNet18_Weights.IMAGENET1K_V1\n",
    "model_resnet18_distilled_full = resnet18(weights)"
   ]
  },
  {
   "cell_type": "code",
   "execution_count": 59,
   "metadata": {},
   "outputs": [
    {
     "data": {
      "text/plain": [
       "ResNet(\n",
       "  (conv1): Conv2d(3, 64, kernel_size=(7, 7), stride=(2, 2), padding=(3, 3), bias=False)\n",
       "  (bn1): BatchNorm2d(64, eps=1e-05, momentum=0.1, affine=True, track_running_stats=True)\n",
       "  (relu): ReLU(inplace=True)\n",
       "  (maxpool): MaxPool2d(kernel_size=3, stride=2, padding=1, dilation=1, ceil_mode=False)\n",
       "  (layer1): Sequential(\n",
       "    (0): BasicBlock(\n",
       "      (conv1): Conv2d(64, 64, kernel_size=(3, 3), stride=(1, 1), padding=(1, 1), bias=False)\n",
       "      (bn1): BatchNorm2d(64, eps=1e-05, momentum=0.1, affine=True, track_running_stats=True)\n",
       "      (relu): ReLU(inplace=True)\n",
       "      (conv2): Conv2d(64, 64, kernel_size=(3, 3), stride=(1, 1), padding=(1, 1), bias=False)\n",
       "      (bn2): BatchNorm2d(64, eps=1e-05, momentum=0.1, affine=True, track_running_stats=True)\n",
       "    )\n",
       "    (1): BasicBlock(\n",
       "      (conv1): Conv2d(64, 64, kernel_size=(3, 3), stride=(1, 1), padding=(1, 1), bias=False)\n",
       "      (bn1): BatchNorm2d(64, eps=1e-05, momentum=0.1, affine=True, track_running_stats=True)\n",
       "      (relu): ReLU(inplace=True)\n",
       "      (conv2): Conv2d(64, 64, kernel_size=(3, 3), stride=(1, 1), padding=(1, 1), bias=False)\n",
       "      (bn2): BatchNorm2d(64, eps=1e-05, momentum=0.1, affine=True, track_running_stats=True)\n",
       "    )\n",
       "  )\n",
       "  (layer2): Sequential(\n",
       "    (0): BasicBlock(\n",
       "      (conv1): Conv2d(64, 128, kernel_size=(3, 3), stride=(2, 2), padding=(1, 1), bias=False)\n",
       "      (bn1): BatchNorm2d(128, eps=1e-05, momentum=0.1, affine=True, track_running_stats=True)\n",
       "      (relu): ReLU(inplace=True)\n",
       "      (conv2): Conv2d(128, 128, kernel_size=(3, 3), stride=(1, 1), padding=(1, 1), bias=False)\n",
       "      (bn2): BatchNorm2d(128, eps=1e-05, momentum=0.1, affine=True, track_running_stats=True)\n",
       "      (downsample): Sequential(\n",
       "        (0): Conv2d(64, 128, kernel_size=(1, 1), stride=(2, 2), bias=False)\n",
       "        (1): BatchNorm2d(128, eps=1e-05, momentum=0.1, affine=True, track_running_stats=True)\n",
       "      )\n",
       "    )\n",
       "    (1): BasicBlock(\n",
       "      (conv1): Conv2d(128, 128, kernel_size=(3, 3), stride=(1, 1), padding=(1, 1), bias=False)\n",
       "      (bn1): BatchNorm2d(128, eps=1e-05, momentum=0.1, affine=True, track_running_stats=True)\n",
       "      (relu): ReLU(inplace=True)\n",
       "      (conv2): Conv2d(128, 128, kernel_size=(3, 3), stride=(1, 1), padding=(1, 1), bias=False)\n",
       "      (bn2): BatchNorm2d(128, eps=1e-05, momentum=0.1, affine=True, track_running_stats=True)\n",
       "    )\n",
       "  )\n",
       "  (layer3): Sequential(\n",
       "    (0): BasicBlock(\n",
       "      (conv1): Conv2d(128, 256, kernel_size=(3, 3), stride=(2, 2), padding=(1, 1), bias=False)\n",
       "      (bn1): BatchNorm2d(256, eps=1e-05, momentum=0.1, affine=True, track_running_stats=True)\n",
       "      (relu): ReLU(inplace=True)\n",
       "      (conv2): Conv2d(256, 256, kernel_size=(3, 3), stride=(1, 1), padding=(1, 1), bias=False)\n",
       "      (bn2): BatchNorm2d(256, eps=1e-05, momentum=0.1, affine=True, track_running_stats=True)\n",
       "      (downsample): Sequential(\n",
       "        (0): Conv2d(128, 256, kernel_size=(1, 1), stride=(2, 2), bias=False)\n",
       "        (1): BatchNorm2d(256, eps=1e-05, momentum=0.1, affine=True, track_running_stats=True)\n",
       "      )\n",
       "    )\n",
       "    (1): BasicBlock(\n",
       "      (conv1): Conv2d(256, 256, kernel_size=(3, 3), stride=(1, 1), padding=(1, 1), bias=False)\n",
       "      (bn1): BatchNorm2d(256, eps=1e-05, momentum=0.1, affine=True, track_running_stats=True)\n",
       "      (relu): ReLU(inplace=True)\n",
       "      (conv2): Conv2d(256, 256, kernel_size=(3, 3), stride=(1, 1), padding=(1, 1), bias=False)\n",
       "      (bn2): BatchNorm2d(256, eps=1e-05, momentum=0.1, affine=True, track_running_stats=True)\n",
       "    )\n",
       "  )\n",
       "  (layer4): Sequential(\n",
       "    (0): BasicBlock(\n",
       "      (conv1): Conv2d(256, 512, kernel_size=(3, 3), stride=(2, 2), padding=(1, 1), bias=False)\n",
       "      (bn1): BatchNorm2d(512, eps=1e-05, momentum=0.1, affine=True, track_running_stats=True)\n",
       "      (relu): ReLU(inplace=True)\n",
       "      (conv2): Conv2d(512, 512, kernel_size=(3, 3), stride=(1, 1), padding=(1, 1), bias=False)\n",
       "      (bn2): BatchNorm2d(512, eps=1e-05, momentum=0.1, affine=True, track_running_stats=True)\n",
       "      (downsample): Sequential(\n",
       "        (0): Conv2d(256, 512, kernel_size=(1, 1), stride=(2, 2), bias=False)\n",
       "        (1): BatchNorm2d(512, eps=1e-05, momentum=0.1, affine=True, track_running_stats=True)\n",
       "      )\n",
       "    )\n",
       "    (1): BasicBlock(\n",
       "      (conv1): Conv2d(512, 512, kernel_size=(3, 3), stride=(1, 1), padding=(1, 1), bias=False)\n",
       "      (bn1): BatchNorm2d(512, eps=1e-05, momentum=0.1, affine=True, track_running_stats=True)\n",
       "      (relu): ReLU(inplace=True)\n",
       "      (conv2): Conv2d(512, 512, kernel_size=(3, 3), stride=(1, 1), padding=(1, 1), bias=False)\n",
       "      (bn2): BatchNorm2d(512, eps=1e-05, momentum=0.1, affine=True, track_running_stats=True)\n",
       "    )\n",
       "  )\n",
       "  (avgpool): AdaptiveAvgPool2d(output_size=(1, 1))\n",
       "  (fc): Linear(in_features=512, out_features=10, bias=True)\n",
       ")"
      ]
     },
     "execution_count": 59,
     "metadata": {},
     "output_type": "execute_result"
    }
   ],
   "source": [
    "model_resnet18_distilled_full.fc = nn.Linear(512,10)\n",
    "model_resnet18_distilled_full.to(device)"
   ]
  },
  {
   "attachments": {},
   "cell_type": "markdown",
   "metadata": {},
   "source": [
    "### Training model & Optimization & TensorBoard"
   ]
  },
  {
   "cell_type": "code",
   "execution_count": 60,
   "metadata": {},
   "outputs": [
    {
     "name": "stdout",
     "output_type": "stream",
     "text": [
      "Epoch 1\n",
      "-------------------------------\n",
      "loss: 2.284303  [    0/40000]\n",
      "loss: 1.623864  [ 6400/40000]\n",
      "loss: 1.606618  [12800/40000]\n",
      "loss: 1.564070  [19200/40000]\n",
      "loss: 1.607589  [25600/40000]\n",
      "loss: 1.555243  [32000/40000]\n",
      "loss: 1.576042  [38400/40000]\n",
      "\n",
      " -Training Accuracy = 86.3%, Avg loss = 0.025580 \n",
      "\n",
      " -Validation Error: Accuracy = 92.2%, Avg loss = 0.004912 \n",
      "\n",
      "Epoch 2\n",
      "-------------------------------\n",
      "loss: 1.551299  [    0/40000]\n",
      "loss: 1.568053  [ 6400/40000]\n",
      "loss: 1.523078  [12800/40000]\n",
      "loss: 1.564402  [19200/40000]\n",
      "loss: 1.548536  [25600/40000]\n",
      "loss: 1.554309  [32000/40000]\n",
      "loss: 1.565473  [38400/40000]\n",
      "\n",
      " -Training Accuracy = 94.3%, Avg loss = 0.024255 \n",
      "\n",
      " -Validation Error: Accuracy = 92.6%, Avg loss = 0.004684 \n",
      "\n",
      "Epoch 3\n",
      "-------------------------------\n",
      "loss: 1.563205  [    0/40000]\n",
      "loss: 1.531483  [ 6400/40000]\n",
      "loss: 1.544432  [12800/40000]\n",
      "loss: 1.568351  [19200/40000]\n",
      "loss: 1.528682  [25600/40000]\n",
      "loss: 1.492010  [32000/40000]\n",
      "loss: 1.515993  [38400/40000]\n",
      "\n",
      " -Training Accuracy = 96.5%, Avg loss = 0.023914 \n",
      "\n",
      " -Validation Error: Accuracy = 93.3%, Avg loss = 0.004296 \n",
      "\n",
      "Epoch 4\n",
      "-------------------------------\n",
      "loss: 1.523416  [    0/40000]\n",
      "loss: 1.556987  [ 6400/40000]\n",
      "loss: 1.513977  [12800/40000]\n",
      "loss: 1.507201  [19200/40000]\n",
      "loss: 1.492661  [25600/40000]\n",
      "loss: 1.493818  [32000/40000]\n",
      "loss: 1.521262  [38400/40000]\n",
      "\n",
      " -Training Accuracy = 97.8%, Avg loss = 0.023727 \n",
      "\n",
      " -Validation Error: Accuracy = 93.7%, Avg loss = 0.004012 \n",
      "\n",
      "Epoch 5\n",
      "-------------------------------\n",
      "loss: 1.517244  [    0/40000]\n",
      "loss: 1.516694  [ 6400/40000]\n",
      "loss: 1.507122  [12800/40000]\n",
      "loss: 1.492068  [19200/40000]\n",
      "loss: 1.487399  [25600/40000]\n",
      "loss: 1.506349  [32000/40000]\n",
      "loss: 1.535274  [38400/40000]\n",
      "\n",
      " -Training Accuracy = 98.5%, Avg loss = 0.023610 \n",
      "\n",
      " -Validation Error: Accuracy = 93.6%, Avg loss = 0.004272 \n",
      "\n",
      "Epoch 6\n",
      "-------------------------------\n",
      "loss: 1.501638  [    0/40000]\n",
      "loss: 1.501270  [ 6400/40000]\n",
      "loss: 1.511912  [12800/40000]\n",
      "loss: 1.498242  [19200/40000]\n",
      "loss: 1.500859  [25600/40000]\n",
      "loss: 1.488048  [32000/40000]\n",
      "loss: 1.488082  [38400/40000]\n",
      "\n",
      " -Training Accuracy = 99.0%, Avg loss = 0.023539 \n",
      "\n",
      " -Validation Error: Accuracy = 94.3%, Avg loss = 0.003902 \n",
      "\n",
      "Epoch 7\n",
      "-------------------------------\n",
      "loss: 1.508757  [    0/40000]\n",
      "loss: 1.487141  [ 6400/40000]\n",
      "loss: 1.506496  [12800/40000]\n",
      "loss: 1.502466  [19200/40000]\n",
      "loss: 1.486783  [25600/40000]\n",
      "loss: 1.523129  [32000/40000]\n",
      "loss: 1.512329  [38400/40000]\n",
      "\n",
      " -Training Accuracy = 99.2%, Avg loss = 0.023504 \n",
      "\n",
      " -Validation Error: Accuracy = 93.9%, Avg loss = 0.003950 \n",
      "\n",
      "Done!\n"
     ]
    }
   ],
   "source": [
    "from torch.utils.tensorboard import SummaryWriter\n",
    "writer = SummaryWriter(log_dir='knowledgeDistillation_full_Board')\n",
    "\n",
    "epochs = 7\n",
    "optimizer = torch.optim.Adam(model_resnet18_distilled_full.parameters(), lr=0.0001)\n",
    "\n",
    "for e in range(epochs):\n",
    "    print(f\"Epoch {e+1}\\n-------------------------------\")\n",
    "    trainAcc, trainLoss = train_Distillation_loop(train_dataloader, model_resnet18_distilled_full, model_resnet50_full, distillationLoss(), optimizer)\n",
    "    writer.add_scalar('Accuracy/train', trainAcc, e)\n",
    "    writer.add_scalar('Loss/train', trainLoss, e)\n",
    "\n",
    "    valAcc, valLoss = test_loop(valid_dataloader, model_resnet18_distilled_full, crossEntropy, 'Validation')\n",
    "    writer.add_scalar('Accuracy/validation', valAcc, e)\n",
    "    writer.add_scalar('Loss/validation', valLoss, e)\n",
    "    \n",
    "print(\"Done!\")"
   ]
  },
  {
   "attachments": {},
   "cell_type": "markdown",
   "metadata": {},
   "source": [
    "## Test and Result"
   ]
  },
  {
   "attachments": {},
   "cell_type": "markdown",
   "metadata": {},
   "source": [
    "* accuracy and loss for Test Dataset"
   ]
  },
  {
   "cell_type": "code",
   "execution_count": 61,
   "metadata": {},
   "outputs": [
    {
     "name": "stdout",
     "output_type": "stream",
     "text": [
      " -Test Error: Accuracy = 93.2%, Avg loss = 0.004392 \n",
      "\n"
     ]
    }
   ],
   "source": [
    "test_loop(test_dataloader, model_resnet18_distilled_full, crossEntropy, 'Test');"
   ]
  },
  {
   "cell_type": "code",
   "execution_count": 62,
   "metadata": {},
   "outputs": [],
   "source": [
    "y_pred = []\n",
    "y_true = []\n",
    "\n",
    "with torch.no_grad():\n",
    "    for X, Y in test_dataloader:\n",
    "        # Compute prediction and losss\n",
    "        X = X.to(device)\n",
    "        Y = Y.to(device)\n",
    "        pred = model_resnet50_full(X)\n",
    "        y_pred.extend(pred.argmax(1).cpu().numpy())\n",
    "        y_true.extend(Y.cpu().numpy())"
   ]
  },
  {
   "attachments": {},
   "cell_type": "markdown",
   "metadata": {},
   "source": [
    "* classification report (precision, recall, accuracy)"
   ]
  },
  {
   "cell_type": "code",
   "execution_count": 63,
   "metadata": {},
   "outputs": [
    {
     "name": "stdout",
     "output_type": "stream",
     "text": [
      "              precision    recall  f1-score   support\n",
      "\n",
      "           0       0.97      0.98      0.97      1000\n",
      "           1       0.94      0.99      0.96      1000\n",
      "           2       0.96      0.94      0.95      1000\n",
      "           3       0.89      0.93      0.91      1000\n",
      "           4       0.94      0.95      0.95      1000\n",
      "           5       0.95      0.89      0.92      1000\n",
      "           6       0.95      0.98      0.97      1000\n",
      "           7       0.98      0.97      0.97      1000\n",
      "           8       0.99      0.96      0.98      1000\n",
      "           9       0.98      0.95      0.96      1000\n",
      "\n",
      "    accuracy                           0.95     10000\n",
      "   macro avg       0.95      0.95      0.95     10000\n",
      "weighted avg       0.95      0.95      0.95     10000\n",
      "\n"
     ]
    }
   ],
   "source": [
    "# classification report\n",
    "print(classification_report(y_true=y_true, \n",
    "                            y_pred=y_pred))"
   ]
  },
  {
   "attachments": {},
   "cell_type": "markdown",
   "metadata": {},
   "source": [
    "* confusion matrix"
   ]
  },
  {
   "cell_type": "code",
   "execution_count": 64,
   "metadata": {},
   "outputs": [
    {
     "name": "stdout",
     "output_type": "stream",
     "text": [
      "[[977   3   8   1   0   0   2   2   6   1]\n",
      " [  1 989   0   0   0   0   0   0   1   9]\n",
      " [  8   0 944  19  11  10   5   2   1   0]\n",
      " [  4   2   6 925  13  27  18   2   1   2]\n",
      " [  0   0   8   5 954   4  16  12   1   0]\n",
      " [  0   2   2  78  19 887   5   6   1   0]\n",
      " [  1   1   7   5   0   0 985   0   0   1]\n",
      " [  0   0   3   5  20   3   2 967   0   0]\n",
      " [ 14  13   2   0   1   0   1   0 962   7]\n",
      " [  7  43   0   1   1   1   0   0   0 947]]\n"
     ]
    }
   ],
   "source": [
    "# Creating confusion matrix\n",
    "## true elements for each class : diagonal elements of matrix in class's row \n",
    "## false elements for each classs : others \n",
    "conf_mat = confusion_matrix(y_true=y_true, y_pred=y_pred)\n",
    "print(conf_mat)"
   ]
  },
  {
   "cell_type": "code",
   "execution_count": 65,
   "metadata": {},
   "outputs": [
    {
     "data": {
      "image/png": "[encoded data removed]",
      "text/plain": [
       "<Figure size 640x480 with 2 Axes>"
      ]
     },
     "metadata": {},
     "output_type": "display_data"
    }
   ],
   "source": [
    "seaborn.heatmap(conf_mat, annot=True, fmt='d', cmap='viridis')\n",
    "plt.xlabel('Predicted label')\n",
    "plt.ylabel('True label')\n",
    "plt.show()"
   ]
  },
  {
   "cell_type": "code",
   "execution_count": 66,
   "metadata": {},
   "outputs": [],
   "source": [
    "torch.save(model_resnet18_distilled_full.state_dict(), 'model_resnet18_distilled_full.pth')"
   ]
  },
  {
   "attachments": {},
   "cell_type": "markdown",
   "metadata": {},
   "source": [
    "## Comparing `B` and `D`:\n",
    "> The Resnet50 network was fine-tuned and used as a teacher in this section. The accuracy of Resnet50 in full fine-tuning is higher than linear tuning (about 95% compared to 80%). After that, we trained Resnet18 using the knowledge-distillation method with Resnet50 as a teacher. As we can see, the student learned more in part B because the teacher had more information."
   ]
  }
 ],
 "metadata": {
  "colab": {
   "collapsed_sections": [],
   "provenance": []
  },
  "kernelspec": {
   "display_name": "Python 3",
   "language": "python",
   "name": "python3"
  },
  "language_info": {
   "codemirror_mode": {
    "name": "ipython",
    "version": 3
   },
   "file_extension": ".py",
   "mimetype": "text/x-python",
   "name": "python",
   "nbconvert_exporter": "python",
   "pygments_lexer": "ipython3",
   "version": "3.10.6"
  },
  "vscode": {
   "interpreter": {
    "hash": "916dbcbb3f70747c44a77c7bcd40155683ae19c65e1c03b4aa3499c5328201f1"
   }
  }
 },
 "nbformat": 4,
 "nbformat_minor": 1
}
